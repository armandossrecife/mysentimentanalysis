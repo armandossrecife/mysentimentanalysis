{
  "nbformat": 4,
  "nbformat_minor": 0,
  "metadata": {
    "colab": {
      "provenance": [],
      "gpuType": "T4"
    },
    "kernelspec": {
      "name": "python3",
      "display_name": "Python 3"
    },
    "language_info": {
      "name": "python"
    },
    "accelerator": "GPU",
    "widgets": {
      "application/vnd.jupyter.widget-state+json": {
        "bceb9bd1da4f46aabf3c265edbcc5096": {
          "model_module": "@jupyter-widgets/controls",
          "model_name": "HBoxModel",
          "model_module_version": "1.5.0",
          "state": {
            "_dom_classes": [],
            "_model_module": "@jupyter-widgets/controls",
            "_model_module_version": "1.5.0",
            "_model_name": "HBoxModel",
            "_view_count": null,
            "_view_module": "@jupyter-widgets/controls",
            "_view_module_version": "1.5.0",
            "_view_name": "HBoxView",
            "box_style": "",
            "children": [
              "IPY_MODEL_f009a50e04504097a3fd758f84e55922",
              "IPY_MODEL_8208e7b4e39f4879bd4f9c4322c1c7ee",
              "IPY_MODEL_7498f471281f40d39d6804dbb384623d"
            ],
            "layout": "IPY_MODEL_432cdcde7cb54d51a8eb7affc1441728"
          }
        },
        "f009a50e04504097a3fd758f84e55922": {
          "model_module": "@jupyter-widgets/controls",
          "model_name": "HTMLModel",
          "model_module_version": "1.5.0",
          "state": {
            "_dom_classes": [],
            "_model_module": "@jupyter-widgets/controls",
            "_model_module_version": "1.5.0",
            "_model_name": "HTMLModel",
            "_view_count": null,
            "_view_module": "@jupyter-widgets/controls",
            "_view_module_version": "1.5.0",
            "_view_name": "HTMLView",
            "description": "",
            "description_tooltip": null,
            "layout": "IPY_MODEL_5d80c65ee2b0453da455e7d901701e76",
            "placeholder": "​",
            "style": "IPY_MODEL_ab0d575d6e414b6ebcbdb1f60fa830d8",
            "value": "model.safetensors: 100%"
          }
        },
        "8208e7b4e39f4879bd4f9c4322c1c7ee": {
          "model_module": "@jupyter-widgets/controls",
          "model_name": "FloatProgressModel",
          "model_module_version": "1.5.0",
          "state": {
            "_dom_classes": [],
            "_model_module": "@jupyter-widgets/controls",
            "_model_module_version": "1.5.0",
            "_model_name": "FloatProgressModel",
            "_view_count": null,
            "_view_module": "@jupyter-widgets/controls",
            "_view_module_version": "1.5.0",
            "_view_name": "ProgressView",
            "bar_style": "success",
            "description": "",
            "description_tooltip": null,
            "layout": "IPY_MODEL_3ff8c6b60ae74251898f40d1c0ab019a",
            "max": 267954768,
            "min": 0,
            "orientation": "horizontal",
            "style": "IPY_MODEL_cad4be6c65464d59918ddea0cda68132",
            "value": 267954768
          }
        },
        "7498f471281f40d39d6804dbb384623d": {
          "model_module": "@jupyter-widgets/controls",
          "model_name": "HTMLModel",
          "model_module_version": "1.5.0",
          "state": {
            "_dom_classes": [],
            "_model_module": "@jupyter-widgets/controls",
            "_model_module_version": "1.5.0",
            "_model_name": "HTMLModel",
            "_view_count": null,
            "_view_module": "@jupyter-widgets/controls",
            "_view_module_version": "1.5.0",
            "_view_name": "HTMLView",
            "description": "",
            "description_tooltip": null,
            "layout": "IPY_MODEL_7e49a0179e5f48cc83c1454695d4ebc2",
            "placeholder": "​",
            "style": "IPY_MODEL_cbe82d1ee0c847eb98a4c9883cbd3d00",
            "value": " 268M/268M [00:05&lt;00:00, 24.0MB/s]"
          }
        },
        "432cdcde7cb54d51a8eb7affc1441728": {
          "model_module": "@jupyter-widgets/base",
          "model_name": "LayoutModel",
          "model_module_version": "1.2.0",
          "state": {
            "_model_module": "@jupyter-widgets/base",
            "_model_module_version": "1.2.0",
            "_model_name": "LayoutModel",
            "_view_count": null,
            "_view_module": "@jupyter-widgets/base",
            "_view_module_version": "1.2.0",
            "_view_name": "LayoutView",
            "align_content": null,
            "align_items": null,
            "align_self": null,
            "border": null,
            "bottom": null,
            "display": null,
            "flex": null,
            "flex_flow": null,
            "grid_area": null,
            "grid_auto_columns": null,
            "grid_auto_flow": null,
            "grid_auto_rows": null,
            "grid_column": null,
            "grid_gap": null,
            "grid_row": null,
            "grid_template_areas": null,
            "grid_template_columns": null,
            "grid_template_rows": null,
            "height": null,
            "justify_content": null,
            "justify_items": null,
            "left": null,
            "margin": null,
            "max_height": null,
            "max_width": null,
            "min_height": null,
            "min_width": null,
            "object_fit": null,
            "object_position": null,
            "order": null,
            "overflow": null,
            "overflow_x": null,
            "overflow_y": null,
            "padding": null,
            "right": null,
            "top": null,
            "visibility": null,
            "width": null
          }
        },
        "5d80c65ee2b0453da455e7d901701e76": {
          "model_module": "@jupyter-widgets/base",
          "model_name": "LayoutModel",
          "model_module_version": "1.2.0",
          "state": {
            "_model_module": "@jupyter-widgets/base",
            "_model_module_version": "1.2.0",
            "_model_name": "LayoutModel",
            "_view_count": null,
            "_view_module": "@jupyter-widgets/base",
            "_view_module_version": "1.2.0",
            "_view_name": "LayoutView",
            "align_content": null,
            "align_items": null,
            "align_self": null,
            "border": null,
            "bottom": null,
            "display": null,
            "flex": null,
            "flex_flow": null,
            "grid_area": null,
            "grid_auto_columns": null,
            "grid_auto_flow": null,
            "grid_auto_rows": null,
            "grid_column": null,
            "grid_gap": null,
            "grid_row": null,
            "grid_template_areas": null,
            "grid_template_columns": null,
            "grid_template_rows": null,
            "height": null,
            "justify_content": null,
            "justify_items": null,
            "left": null,
            "margin": null,
            "max_height": null,
            "max_width": null,
            "min_height": null,
            "min_width": null,
            "object_fit": null,
            "object_position": null,
            "order": null,
            "overflow": null,
            "overflow_x": null,
            "overflow_y": null,
            "padding": null,
            "right": null,
            "top": null,
            "visibility": null,
            "width": null
          }
        },
        "ab0d575d6e414b6ebcbdb1f60fa830d8": {
          "model_module": "@jupyter-widgets/controls",
          "model_name": "DescriptionStyleModel",
          "model_module_version": "1.5.0",
          "state": {
            "_model_module": "@jupyter-widgets/controls",
            "_model_module_version": "1.5.0",
            "_model_name": "DescriptionStyleModel",
            "_view_count": null,
            "_view_module": "@jupyter-widgets/base",
            "_view_module_version": "1.2.0",
            "_view_name": "StyleView",
            "description_width": ""
          }
        },
        "3ff8c6b60ae74251898f40d1c0ab019a": {
          "model_module": "@jupyter-widgets/base",
          "model_name": "LayoutModel",
          "model_module_version": "1.2.0",
          "state": {
            "_model_module": "@jupyter-widgets/base",
            "_model_module_version": "1.2.0",
            "_model_name": "LayoutModel",
            "_view_count": null,
            "_view_module": "@jupyter-widgets/base",
            "_view_module_version": "1.2.0",
            "_view_name": "LayoutView",
            "align_content": null,
            "align_items": null,
            "align_self": null,
            "border": null,
            "bottom": null,
            "display": null,
            "flex": null,
            "flex_flow": null,
            "grid_area": null,
            "grid_auto_columns": null,
            "grid_auto_flow": null,
            "grid_auto_rows": null,
            "grid_column": null,
            "grid_gap": null,
            "grid_row": null,
            "grid_template_areas": null,
            "grid_template_columns": null,
            "grid_template_rows": null,
            "height": null,
            "justify_content": null,
            "justify_items": null,
            "left": null,
            "margin": null,
            "max_height": null,
            "max_width": null,
            "min_height": null,
            "min_width": null,
            "object_fit": null,
            "object_position": null,
            "order": null,
            "overflow": null,
            "overflow_x": null,
            "overflow_y": null,
            "padding": null,
            "right": null,
            "top": null,
            "visibility": null,
            "width": null
          }
        },
        "cad4be6c65464d59918ddea0cda68132": {
          "model_module": "@jupyter-widgets/controls",
          "model_name": "ProgressStyleModel",
          "model_module_version": "1.5.0",
          "state": {
            "_model_module": "@jupyter-widgets/controls",
            "_model_module_version": "1.5.0",
            "_model_name": "ProgressStyleModel",
            "_view_count": null,
            "_view_module": "@jupyter-widgets/base",
            "_view_module_version": "1.2.0",
            "_view_name": "StyleView",
            "bar_color": null,
            "description_width": ""
          }
        },
        "7e49a0179e5f48cc83c1454695d4ebc2": {
          "model_module": "@jupyter-widgets/base",
          "model_name": "LayoutModel",
          "model_module_version": "1.2.0",
          "state": {
            "_model_module": "@jupyter-widgets/base",
            "_model_module_version": "1.2.0",
            "_model_name": "LayoutModel",
            "_view_count": null,
            "_view_module": "@jupyter-widgets/base",
            "_view_module_version": "1.2.0",
            "_view_name": "LayoutView",
            "align_content": null,
            "align_items": null,
            "align_self": null,
            "border": null,
            "bottom": null,
            "display": null,
            "flex": null,
            "flex_flow": null,
            "grid_area": null,
            "grid_auto_columns": null,
            "grid_auto_flow": null,
            "grid_auto_rows": null,
            "grid_column": null,
            "grid_gap": null,
            "grid_row": null,
            "grid_template_areas": null,
            "grid_template_columns": null,
            "grid_template_rows": null,
            "height": null,
            "justify_content": null,
            "justify_items": null,
            "left": null,
            "margin": null,
            "max_height": null,
            "max_width": null,
            "min_height": null,
            "min_width": null,
            "object_fit": null,
            "object_position": null,
            "order": null,
            "overflow": null,
            "overflow_x": null,
            "overflow_y": null,
            "padding": null,
            "right": null,
            "top": null,
            "visibility": null,
            "width": null
          }
        },
        "cbe82d1ee0c847eb98a4c9883cbd3d00": {
          "model_module": "@jupyter-widgets/controls",
          "model_name": "DescriptionStyleModel",
          "model_module_version": "1.5.0",
          "state": {
            "_model_module": "@jupyter-widgets/controls",
            "_model_module_version": "1.5.0",
            "_model_name": "DescriptionStyleModel",
            "_view_count": null,
            "_view_module": "@jupyter-widgets/base",
            "_view_module_version": "1.2.0",
            "_view_name": "StyleView",
            "description_width": ""
          }
        }
      }
    }
  },
  "cells": [
    {
      "cell_type": "code",
      "execution_count": 1,
      "metadata": {
        "id": "DrbovaoBVOPF"
      },
      "outputs": [],
      "source": [
        "import requests"
      ]
    },
    {
      "cell_type": "code",
      "source": [
        "download_url = \"https://figshare.com/ndownloader/files/45989205\"\n",
        "\n",
        "try:\n",
        "  response = requests.get(download_url, headers={'User-Agent': 'My Python Script'})\n",
        "  if response.status_code == 200:\n",
        "    filename = response.headers.get('content-disposition', None)\n",
        "    if filename:\n",
        "        filename = filename.split(\"filename=\")[1].strip('\"')\n",
        "    else:\n",
        "        filename = \"figshare_download.data\"\n",
        "\n",
        "    with open(filename, 'wb') as f:\n",
        "      f.write(response.content)\n",
        "\n",
        "    print(f\"Download complete! File saved as: {filename}\")\n",
        "  else:\n",
        "    print(f\"Error downloading file. Status code: {response.status_code}\")\n",
        "except Exception as ex:\n",
        "  print(f\"Erro no download: {str(ex)}\")"
      ],
      "metadata": {
        "colab": {
          "base_uri": "https://localhost:8080/"
        },
        "id": "nkgAsT_WWD9M",
        "outputId": "a1554976-b076-4476-a576-e0d31b764626"
      },
      "execution_count": 2,
      "outputs": [
        {
          "output_type": "stream",
          "name": "stdout",
          "text": [
            "Download complete! File saved as: eh-bug-study_replication-package.zip\n"
          ]
        }
      ]
    },
    {
      "cell_type": "code",
      "source": [
        "!echo 'Aguarde...'\n",
        "!echo 'Descompactando o arquivo eh-bug-study_replication-package.zip'\n",
        "!unzip -q eh-bug-study_replication-package.zip\n",
        "!echo 'Arquivo descompactado com sucesso'"
      ],
      "metadata": {
        "colab": {
          "base_uri": "https://localhost:8080/"
        },
        "id": "yPI91ksLWlZr",
        "outputId": "efe04d28-6796-4766-d2fb-4788caddcd4b"
      },
      "execution_count": 3,
      "outputs": [
        {
          "output_type": "stream",
          "name": "stdout",
          "text": [
            "Aguarde...\n",
            "Descompactando o arquivo eh-bug-study_replication-package.zip\n",
            "Arquivo descompactado com sucesso\n"
          ]
        }
      ]
    },
    {
      "cell_type": "code",
      "source": [
        "import numpy as np\n",
        "import pandas as pd\n",
        "import json\n",
        "from os import listdir\n",
        "from os.path import basename, join"
      ],
      "metadata": {
        "id": "wYLn3YObXB6e"
      },
      "execution_count": 4,
      "outputs": []
    },
    {
      "cell_type": "code",
      "source": [
        "MY_PATH = '/content/eh-bug-study_replication-package'\n",
        "NOTEBOOK_PATH = f'{MY_PATH}/notebooks/'\n",
        "\n",
        "TEXTUAL_FIELDS_PATH = f'{MY_PATH}/data/raw/textual_fields/'\n",
        "PROCESSED_DATA_PATH = f'{MY_PATH}/data/processed/'"
      ],
      "metadata": {
        "id": "rgb-kPHBXSIZ"
      },
      "execution_count": 5,
      "outputs": []
    },
    {
      "cell_type": "code",
      "source": [
        "file1 = NOTEBOOK_PATH + 'final_labeled_dataset_ehanalysis_col.csv'\n",
        "labels = pd.read_csv(file1,sep=';')"
      ],
      "metadata": {
        "id": "wTrBGyEdXVAI"
      },
      "execution_count": 6,
      "outputs": []
    },
    {
      "cell_type": "code",
      "source": [
        "BOTS_USERNAMES_JIRA = ['githubbot', 'genericqa', 'HadoopDev', 'hadoopqa', 'hudson', 'jiraposter@reviews.apache.org']\n",
        "\n",
        "count = 0\n",
        "keys = []\n",
        "description = []\n",
        "comments= []\n",
        "summary = []"
      ],
      "metadata": {
        "id": "bz2A6nwFXV6D"
      },
      "execution_count": 7,
      "outputs": []
    },
    {
      "cell_type": "code",
      "source": [
        "!echo 'Aguarde...'\n",
        "!echo 'Descompactando os arquivo de dataset'\n",
        "!unzip -q /content/eh-bug-study_replication-package/data/raw/textual_fields/EXTRACT_HERE.zip\n",
        "!echo 'Arquivos descompactador com sucesso!'\n"
      ],
      "metadata": {
        "colab": {
          "base_uri": "https://localhost:8080/"
        },
        "id": "WWj1vr97XY5J",
        "outputId": "8391cae7-ae04-4c10-d47c-cb8690e39e35"
      },
      "execution_count": 8,
      "outputs": [
        {
          "output_type": "stream",
          "name": "stdout",
          "text": [
            "Aguarde...\n",
            "Descompactando os arquivo de dataset\n",
            "Arquivos descompactador com sucesso!\n"
          ]
        }
      ]
    },
    {
      "cell_type": "code",
      "source": [
        "from tqdm import tqdm\n",
        "\n",
        "with tqdm(total=1, desc=\"Loading dataset\", unit=\"s\") as pbar:\n",
        "  for textual_file in listdir('/content/dataset'):\n",
        "      try:\n",
        "        filename = f'/content/dataset/{textual_file}'\n",
        "        f = open(filename)\n",
        "        data = json.load(f)\n",
        "        keys.append(basename(filename).split('.')[0])\n",
        "        description.append(data['description'])\n",
        "        summary.append(data['summary'])\n",
        "        if len(data['comments']):\n",
        "            comment_line = []\n",
        "            for comm in data['comments']:\n",
        "                if (comm['commenter_name'] not in BOTS_USERNAMES_JIRA) and (comm['commenter_id'] not in BOTS_USERNAMES_JIRA):\n",
        "                    comment_line.append(comm['comment'])\n",
        "            joined_comment = ' '.join(comment_line)\n",
        "            if len(joined_comment) <= 512:\n",
        "                comments.append(joined_comment)\n",
        "            else:\n",
        "                comments.append(joined_comment[:512])\n",
        "        else:\n",
        "            comments.append('')\n",
        "        # comments.append(len(data['comments']))\n",
        "        f.close()\n",
        "        count+=1\n",
        "      except Exception as ex:\n",
        "        print(f\"Erro: {ex}\")\n",
        "      pbar.update(1)\n",
        "\n",
        "print(f\"Loaded {count} files successfully\")"
      ],
      "metadata": {
        "colab": {
          "base_uri": "https://localhost:8080/"
        },
        "id": "Ro6OQHJxXwV7",
        "outputId": "72a41483-0da8-4e62-a942-e96d44085f4a"
      },
      "execution_count": 9,
      "outputs": [
        {
          "output_type": "stream",
          "name": "stderr",
          "text": [
            "Loading dataset: 4334s [00:00, 5416.18s/s]"
          ]
        },
        {
          "output_type": "stream",
          "name": "stdout",
          "text": [
            "Erro: 'utf-8' codec can't decode byte 0x80 in position 3131: invalid start byte\n"
          ]
        },
        {
          "output_type": "stream",
          "name": "stderr",
          "text": [
            "Loading dataset: 10376s [00:02, 5005.80s/s]"
          ]
        },
        {
          "output_type": "stream",
          "name": "stdout",
          "text": [
            "Loaded 10375 files successfully\n"
          ]
        },
        {
          "output_type": "stream",
          "name": "stderr",
          "text": [
            "\n"
          ]
        }
      ]
    },
    {
      "cell_type": "code",
      "source": [
        "labels.columns"
      ],
      "metadata": {
        "colab": {
          "base_uri": "https://localhost:8080/"
        },
        "id": "sY12FSIWZXw9",
        "outputId": "3ffeb6b1-8e5c-4ba0-c865-a7d4ec651b48"
      },
      "execution_count": 10,
      "outputs": [
        {
          "output_type": "execute_result",
          "data": {
            "text/plain": [
              "Index(['Project', 'Owner', 'Manager', 'Category', 'Key', 'Priority', 'Status',\n",
              "       'Reporter', 'Assignee', 'Components', 'SummaryTopWords',\n",
              "       'DescriptionTopWords', 'CommentsTopWords', 'CreationDate',\n",
              "       'ResolutionDate', 'AffectsVersions', 'FixVersions', 'NoComments',\n",
              "       'FirstCommentDate', 'LastCommentDate', 'NoWatchers', 'NoAttachments',\n",
              "       'FirstAttachmentDate', 'LastAttachmentDate', 'NoAttachedPatches',\n",
              "       'FirstAttachedPatchDate', 'LastAttachedPatchDate', 'InwardIssueLinks',\n",
              "       'OutwardIssueLinks', 'HasMergeCommit', 'CommitsMessagesTopWords',\n",
              "       'NoCommits', 'NoAuthors', 'NoCommitters', 'AuthorsFirstCommitDate',\n",
              "       'AuthorsLastCommitDate', 'CommittersFirstCommitDate',\n",
              "       'CommittersLastCommitDate', 'NonSrcAddFiles', 'NonSrcDelFiles',\n",
              "       'NonSrcModFiles', 'NonSrcAddLines', 'NonSrcDelLines', 'SrcAddFiles',\n",
              "       'SrcDelFiles', 'SrcModFiles', 'SrcAddLines', 'SrcDelLines',\n",
              "       'TestAddFiles', 'TestDelFiles', 'TestModFiles', 'TestAddLines',\n",
              "       'TestDelLines', 'Type', 'EHCodeAnalysis'],\n",
              "      dtype='object')"
            ]
          },
          "metadata": {},
          "execution_count": 10
        }
      ]
    },
    {
      "cell_type": "code",
      "source": [
        "data = np.column_stack((keys, summary, description, comments))\n",
        "data_df = pd.DataFrame(data=data, columns=['Key', 'Summary', 'Description', 'Comments'])\n",
        "pair_key_label = labels[['Key','EHCodeAnalysis', 'Type']].copy()\n",
        "eh_bugs = pair_key_label[pair_key_label.Type==1].Key.values\n",
        "non_eh_bugs = pair_key_label[pair_key_label.Type==0].Key.values"
      ],
      "metadata": {
        "id": "Fb4dizKHZaa3"
      },
      "execution_count": 11,
      "outputs": []
    },
    {
      "cell_type": "code",
      "source": [
        "eh_code_reports = pair_key_label[pair_key_label.EHCodeAnalysis==1].Key.values\n",
        "non_eh_code_reports = pair_key_label[pair_key_label.EHCodeAnalysis==0].Key.values"
      ],
      "metadata": {
        "id": "QOfldnLEZcgP"
      },
      "execution_count": 12,
      "outputs": []
    },
    {
      "cell_type": "code",
      "source": [
        "# print(len(eh_bugs), len(non_eh_bugs), pair_key_label.shape)\n",
        "\n",
        "data_df['Type'] = -1\n",
        "data_df.loc[data_df.Key.isin(eh_bugs), 'Type'] = 1\n",
        "data_df.loc[data_df.Key.isin(non_eh_bugs), 'Type'] = 0\n",
        "\n",
        "data_df['EHCodeAnalysis'] = -1\n",
        "data_df.loc[data_df.Key.isin(eh_code_reports), 'EHCodeAnalysis'] = 1\n",
        "data_df.loc[data_df.Key.isin(non_eh_code_reports), 'EHCodeAnalysis'] = 0"
      ],
      "metadata": {
        "id": "4NdCg7LzZeJA"
      },
      "execution_count": 13,
      "outputs": []
    },
    {
      "cell_type": "code",
      "source": [
        "data_df.head()"
      ],
      "metadata": {
        "colab": {
          "base_uri": "https://localhost:8080/",
          "height": 292
        },
        "id": "CP1hoDs5Zgbs",
        "outputId": "16781b78-f925-4bb8-e988-4e06b1fb1696"
      },
      "execution_count": 14,
      "outputs": [
        {
          "output_type": "execute_result",
          "data": {
            "text/plain": [
              "              Key                                            Summary  \\\n",
              "0     HADOOP-9782          Datanode daemon cannot be started on OS X   \n",
              "1       YARN-8040  [UI2] New YARN UI webapp does not respect curr...   \n",
              "2  MAPREDUCE-5145  Change default max-attempts to be more than on...   \n",
              "3     HADOOP-8534  Some tests leave a config file open causing fa...   \n",
              "4     HADOOP-5298  Unit test fails out on trunk org.apache.hadoop...   \n",
              "\n",
              "                                         Description  \\\n",
              "0  Datanode fails to start with the following exc...   \n",
              "1  When ui2 is accessed behind proxy like knox/ng...   \n",
              "2  We need to give the AM of MR jobs the chance t...   \n",
              "3  Java xml parser keeps file locked after SAXExc...   \n",
              "4  From: http://hudson.zones.apache.org/hudson/jo...   \n",
              "\n",
              "                                            Comments  Type  EHCodeAnalysis  \n",
              "0  Tests also broke on Mac. Seeing this msg in te...     0               0  \n",
              "1  Hi [~leftnoteasy]. could u pls help to review ...     0               1  \n",
              "2  Similar to YARN-542, I've drafted a patch, inc...    -1              -1  \n",
              "3  Attaching a patch with the fix. +1. Would wrap...    -1              -1  \n",
              "4  test log from build 760 5298_20090226.patch: c...    -1              -1  "
            ],
            "text/html": [
              "\n",
              "  <div id=\"df-eaf9041f-5e8c-473b-b7ac-2c928b64dbea\" class=\"colab-df-container\">\n",
              "    <div>\n",
              "<style scoped>\n",
              "    .dataframe tbody tr th:only-of-type {\n",
              "        vertical-align: middle;\n",
              "    }\n",
              "\n",
              "    .dataframe tbody tr th {\n",
              "        vertical-align: top;\n",
              "    }\n",
              "\n",
              "    .dataframe thead th {\n",
              "        text-align: right;\n",
              "    }\n",
              "</style>\n",
              "<table border=\"1\" class=\"dataframe\">\n",
              "  <thead>\n",
              "    <tr style=\"text-align: right;\">\n",
              "      <th></th>\n",
              "      <th>Key</th>\n",
              "      <th>Summary</th>\n",
              "      <th>Description</th>\n",
              "      <th>Comments</th>\n",
              "      <th>Type</th>\n",
              "      <th>EHCodeAnalysis</th>\n",
              "    </tr>\n",
              "  </thead>\n",
              "  <tbody>\n",
              "    <tr>\n",
              "      <th>0</th>\n",
              "      <td>HADOOP-9782</td>\n",
              "      <td>Datanode daemon cannot be started on OS X</td>\n",
              "      <td>Datanode fails to start with the following exc...</td>\n",
              "      <td>Tests also broke on Mac. Seeing this msg in te...</td>\n",
              "      <td>0</td>\n",
              "      <td>0</td>\n",
              "    </tr>\n",
              "    <tr>\n",
              "      <th>1</th>\n",
              "      <td>YARN-8040</td>\n",
              "      <td>[UI2] New YARN UI webapp does not respect curr...</td>\n",
              "      <td>When ui2 is accessed behind proxy like knox/ng...</td>\n",
              "      <td>Hi [~leftnoteasy]. could u pls help to review ...</td>\n",
              "      <td>0</td>\n",
              "      <td>1</td>\n",
              "    </tr>\n",
              "    <tr>\n",
              "      <th>2</th>\n",
              "      <td>MAPREDUCE-5145</td>\n",
              "      <td>Change default max-attempts to be more than on...</td>\n",
              "      <td>We need to give the AM of MR jobs the chance t...</td>\n",
              "      <td>Similar to YARN-542, I've drafted a patch, inc...</td>\n",
              "      <td>-1</td>\n",
              "      <td>-1</td>\n",
              "    </tr>\n",
              "    <tr>\n",
              "      <th>3</th>\n",
              "      <td>HADOOP-8534</td>\n",
              "      <td>Some tests leave a config file open causing fa...</td>\n",
              "      <td>Java xml parser keeps file locked after SAXExc...</td>\n",
              "      <td>Attaching a patch with the fix. +1. Would wrap...</td>\n",
              "      <td>-1</td>\n",
              "      <td>-1</td>\n",
              "    </tr>\n",
              "    <tr>\n",
              "      <th>4</th>\n",
              "      <td>HADOOP-5298</td>\n",
              "      <td>Unit test fails out on trunk org.apache.hadoop...</td>\n",
              "      <td>From: http://hudson.zones.apache.org/hudson/jo...</td>\n",
              "      <td>test log from build 760 5298_20090226.patch: c...</td>\n",
              "      <td>-1</td>\n",
              "      <td>-1</td>\n",
              "    </tr>\n",
              "  </tbody>\n",
              "</table>\n",
              "</div>\n",
              "    <div class=\"colab-df-buttons\">\n",
              "\n",
              "  <div class=\"colab-df-container\">\n",
              "    <button class=\"colab-df-convert\" onclick=\"convertToInteractive('df-eaf9041f-5e8c-473b-b7ac-2c928b64dbea')\"\n",
              "            title=\"Convert this dataframe to an interactive table.\"\n",
              "            style=\"display:none;\">\n",
              "\n",
              "  <svg xmlns=\"http://www.w3.org/2000/svg\" height=\"24px\" viewBox=\"0 -960 960 960\">\n",
              "    <path d=\"M120-120v-720h720v720H120Zm60-500h600v-160H180v160Zm220 220h160v-160H400v160Zm0 220h160v-160H400v160ZM180-400h160v-160H180v160Zm440 0h160v-160H620v160ZM180-180h160v-160H180v160Zm440 0h160v-160H620v160Z\"/>\n",
              "  </svg>\n",
              "    </button>\n",
              "\n",
              "  <style>\n",
              "    .colab-df-container {\n",
              "      display:flex;\n",
              "      gap: 12px;\n",
              "    }\n",
              "\n",
              "    .colab-df-convert {\n",
              "      background-color: #E8F0FE;\n",
              "      border: none;\n",
              "      border-radius: 50%;\n",
              "      cursor: pointer;\n",
              "      display: none;\n",
              "      fill: #1967D2;\n",
              "      height: 32px;\n",
              "      padding: 0 0 0 0;\n",
              "      width: 32px;\n",
              "    }\n",
              "\n",
              "    .colab-df-convert:hover {\n",
              "      background-color: #E2EBFA;\n",
              "      box-shadow: 0px 1px 2px rgba(60, 64, 67, 0.3), 0px 1px 3px 1px rgba(60, 64, 67, 0.15);\n",
              "      fill: #174EA6;\n",
              "    }\n",
              "\n",
              "    .colab-df-buttons div {\n",
              "      margin-bottom: 4px;\n",
              "    }\n",
              "\n",
              "    [theme=dark] .colab-df-convert {\n",
              "      background-color: #3B4455;\n",
              "      fill: #D2E3FC;\n",
              "    }\n",
              "\n",
              "    [theme=dark] .colab-df-convert:hover {\n",
              "      background-color: #434B5C;\n",
              "      box-shadow: 0px 1px 3px 1px rgba(0, 0, 0, 0.15);\n",
              "      filter: drop-shadow(0px 1px 2px rgba(0, 0, 0, 0.3));\n",
              "      fill: #FFFFFF;\n",
              "    }\n",
              "  </style>\n",
              "\n",
              "    <script>\n",
              "      const buttonEl =\n",
              "        document.querySelector('#df-eaf9041f-5e8c-473b-b7ac-2c928b64dbea button.colab-df-convert');\n",
              "      buttonEl.style.display =\n",
              "        google.colab.kernel.accessAllowed ? 'block' : 'none';\n",
              "\n",
              "      async function convertToInteractive(key) {\n",
              "        const element = document.querySelector('#df-eaf9041f-5e8c-473b-b7ac-2c928b64dbea');\n",
              "        const dataTable =\n",
              "          await google.colab.kernel.invokeFunction('convertToInteractive',\n",
              "                                                    [key], {});\n",
              "        if (!dataTable) return;\n",
              "\n",
              "        const docLinkHtml = 'Like what you see? Visit the ' +\n",
              "          '<a target=\"_blank\" href=https://colab.research.google.com/notebooks/data_table.ipynb>data table notebook</a>'\n",
              "          + ' to learn more about interactive tables.';\n",
              "        element.innerHTML = '';\n",
              "        dataTable['output_type'] = 'display_data';\n",
              "        await google.colab.output.renderOutput(dataTable, element);\n",
              "        const docLink = document.createElement('div');\n",
              "        docLink.innerHTML = docLinkHtml;\n",
              "        element.appendChild(docLink);\n",
              "      }\n",
              "    </script>\n",
              "  </div>\n",
              "\n",
              "\n",
              "<div id=\"df-8f287974-1aee-4a63-b374-c540c099f940\">\n",
              "  <button class=\"colab-df-quickchart\" onclick=\"quickchart('df-8f287974-1aee-4a63-b374-c540c099f940')\"\n",
              "            title=\"Suggest charts\"\n",
              "            style=\"display:none;\">\n",
              "\n",
              "<svg xmlns=\"http://www.w3.org/2000/svg\" height=\"24px\"viewBox=\"0 0 24 24\"\n",
              "     width=\"24px\">\n",
              "    <g>\n",
              "        <path d=\"M19 3H5c-1.1 0-2 .9-2 2v14c0 1.1.9 2 2 2h14c1.1 0 2-.9 2-2V5c0-1.1-.9-2-2-2zM9 17H7v-7h2v7zm4 0h-2V7h2v10zm4 0h-2v-4h2v4z\"/>\n",
              "    </g>\n",
              "</svg>\n",
              "  </button>\n",
              "\n",
              "<style>\n",
              "  .colab-df-quickchart {\n",
              "      --bg-color: #E8F0FE;\n",
              "      --fill-color: #1967D2;\n",
              "      --hover-bg-color: #E2EBFA;\n",
              "      --hover-fill-color: #174EA6;\n",
              "      --disabled-fill-color: #AAA;\n",
              "      --disabled-bg-color: #DDD;\n",
              "  }\n",
              "\n",
              "  [theme=dark] .colab-df-quickchart {\n",
              "      --bg-color: #3B4455;\n",
              "      --fill-color: #D2E3FC;\n",
              "      --hover-bg-color: #434B5C;\n",
              "      --hover-fill-color: #FFFFFF;\n",
              "      --disabled-bg-color: #3B4455;\n",
              "      --disabled-fill-color: #666;\n",
              "  }\n",
              "\n",
              "  .colab-df-quickchart {\n",
              "    background-color: var(--bg-color);\n",
              "    border: none;\n",
              "    border-radius: 50%;\n",
              "    cursor: pointer;\n",
              "    display: none;\n",
              "    fill: var(--fill-color);\n",
              "    height: 32px;\n",
              "    padding: 0;\n",
              "    width: 32px;\n",
              "  }\n",
              "\n",
              "  .colab-df-quickchart:hover {\n",
              "    background-color: var(--hover-bg-color);\n",
              "    box-shadow: 0 1px 2px rgba(60, 64, 67, 0.3), 0 1px 3px 1px rgba(60, 64, 67, 0.15);\n",
              "    fill: var(--button-hover-fill-color);\n",
              "  }\n",
              "\n",
              "  .colab-df-quickchart-complete:disabled,\n",
              "  .colab-df-quickchart-complete:disabled:hover {\n",
              "    background-color: var(--disabled-bg-color);\n",
              "    fill: var(--disabled-fill-color);\n",
              "    box-shadow: none;\n",
              "  }\n",
              "\n",
              "  .colab-df-spinner {\n",
              "    border: 2px solid var(--fill-color);\n",
              "    border-color: transparent;\n",
              "    border-bottom-color: var(--fill-color);\n",
              "    animation:\n",
              "      spin 1s steps(1) infinite;\n",
              "  }\n",
              "\n",
              "  @keyframes spin {\n",
              "    0% {\n",
              "      border-color: transparent;\n",
              "      border-bottom-color: var(--fill-color);\n",
              "      border-left-color: var(--fill-color);\n",
              "    }\n",
              "    20% {\n",
              "      border-color: transparent;\n",
              "      border-left-color: var(--fill-color);\n",
              "      border-top-color: var(--fill-color);\n",
              "    }\n",
              "    30% {\n",
              "      border-color: transparent;\n",
              "      border-left-color: var(--fill-color);\n",
              "      border-top-color: var(--fill-color);\n",
              "      border-right-color: var(--fill-color);\n",
              "    }\n",
              "    40% {\n",
              "      border-color: transparent;\n",
              "      border-right-color: var(--fill-color);\n",
              "      border-top-color: var(--fill-color);\n",
              "    }\n",
              "    60% {\n",
              "      border-color: transparent;\n",
              "      border-right-color: var(--fill-color);\n",
              "    }\n",
              "    80% {\n",
              "      border-color: transparent;\n",
              "      border-right-color: var(--fill-color);\n",
              "      border-bottom-color: var(--fill-color);\n",
              "    }\n",
              "    90% {\n",
              "      border-color: transparent;\n",
              "      border-bottom-color: var(--fill-color);\n",
              "    }\n",
              "  }\n",
              "</style>\n",
              "\n",
              "  <script>\n",
              "    async function quickchart(key) {\n",
              "      const quickchartButtonEl =\n",
              "        document.querySelector('#' + key + ' button');\n",
              "      quickchartButtonEl.disabled = true;  // To prevent multiple clicks.\n",
              "      quickchartButtonEl.classList.add('colab-df-spinner');\n",
              "      try {\n",
              "        const charts = await google.colab.kernel.invokeFunction(\n",
              "            'suggestCharts', [key], {});\n",
              "      } catch (error) {\n",
              "        console.error('Error during call to suggestCharts:', error);\n",
              "      }\n",
              "      quickchartButtonEl.classList.remove('colab-df-spinner');\n",
              "      quickchartButtonEl.classList.add('colab-df-quickchart-complete');\n",
              "    }\n",
              "    (() => {\n",
              "      let quickchartButtonEl =\n",
              "        document.querySelector('#df-8f287974-1aee-4a63-b374-c540c099f940 button');\n",
              "      quickchartButtonEl.style.display =\n",
              "        google.colab.kernel.accessAllowed ? 'block' : 'none';\n",
              "    })();\n",
              "  </script>\n",
              "</div>\n",
              "\n",
              "    </div>\n",
              "  </div>\n"
            ],
            "application/vnd.google.colaboratory.intrinsic+json": {
              "type": "dataframe",
              "variable_name": "data_df",
              "summary": "{\n  \"name\": \"data_df\",\n  \"rows\": 10375,\n  \"fields\": [\n    {\n      \"column\": \"Key\",\n      \"properties\": {\n        \"dtype\": \"string\",\n        \"num_unique_values\": 10375,\n        \"samples\": [\n          \"YARN-4387\",\n          \"HADOOP-6544\",\n          \"YARN-7628\"\n        ],\n        \"semantic_type\": \"\",\n        \"description\": \"\"\n      }\n    },\n    {\n      \"column\": \"Summary\",\n      \"properties\": {\n        \"dtype\": \"string\",\n        \"num_unique_values\": 10307,\n        \"samples\": [\n          \"The number of javadocs warnings is limited to 100 \",\n          \"Streaming tests have multiple failures on Windows\",\n          \"Default value not set for Configuration parameter mapreduce.job.local.dir\"\n        ],\n        \"semantic_type\": \"\",\n        \"description\": \"\"\n      }\n    },\n    {\n      \"column\": \"Description\",\n      \"properties\": {\n        \"dtype\": \"string\",\n        \"num_unique_values\": 10040,\n        \"samples\": [\n          \"HDFS Federation setup documentation is having incorrect property name for secondary namenode http port\\n\\nIt is mentioned as \\n{code}\\n<property>\\n    <name>dfs.namenode.secondaryhttp-address.ns1</name>\\n    <value>snn-host1:http-port</value>\\n  </property>\\n  <property>\\n    <name>dfs.namenode.rpc-address.ns2</name>\\n    <value>nn-host2:rpc-port</value>\\n  </property>\\n{code}\\n\\nActual property should be dfs.namenode.secondary.http-address.ns.\\n\\nBecause of this documentation error, when the document is followed and user tries to setup HDFS federated cluster, secondary namenode will not be started and also \\nhdfs getconf -secondarynamenodes throw's an exception \\n\",\n          \"We need to support specifying multiple resource type in addition to memory/cpu in YARN native services\",\n          \"{code}\\njava.lang.AssertionError: There should not be any replica in the corruptReplicasMap expected:<0> but was:<1>\\n\\tat org.junit.Assert.fail(Assert.java:93)\\n\\tat org.junit.Assert.failNotEquals(Assert.java:647)\\n\\tat org.junit.Assert.assertEquals(Assert.java:128)\\n\\tat org.junit.Assert.assertEquals(Assert.java:472)\\n\\tat org.apache.hadoop.hdfs.server.blockmanagement.TestRBWBlockInvalidation.testBlockInvalidationWhenRBWReplicaMissedInDN(TestRBWBlockInvalidation.java:137)\\n{code}\\n\"\n        ],\n        \"semantic_type\": \"\",\n        \"description\": \"\"\n      }\n    },\n    {\n      \"column\": \"Comments\",\n      \"properties\": {\n        \"dtype\": \"string\",\n        \"num_unique_values\": 10327,\n        \"samples\": [\n          \"This patch is for the MR-279 branch, so the above test-patch results are not applicable +1 The patch looks like a simple and straight forward change to make. I just committed this. Thanks Jeffrey!\",\n          \"Thanks [~haibochen] for the patch. The patch looks great.\\nOne nit: can we provide meaningful error messages if RM doesn't start in 60s? Ditto on the error message.  You can assert that the {{await()}} is true.  In fact, without the assert, you'll continue on even if the RM doesn't start.\\n\\nOtherwise, looks great.  Nice use of a {{CountDownLatch}}. Thanks [~templedf] for your review! Will update the patch shortly. Two tiny nits:\\n\\n# In your service listener, you should probably call {{service.getServiceState()\",\n          \"Attaching trivial patch which increases the max heap size of javadoc plugin. FWIW, it worked without any changes for me on Linux. I'll let some Mac users comment. On my MacBook the javadoc build indeed fails without [~boky01]'s patch with OutOfMemoryError. With the patch it succeeds.  Seems innocuous enough to me. Let's get this in, thanks for contributing this Andras! Thanks for the contribution Andras! Committed to trunk and branch-2.\"\n        ],\n        \"semantic_type\": \"\",\n        \"description\": \"\"\n      }\n    },\n    {\n      \"column\": \"Type\",\n      \"properties\": {\n        \"dtype\": \"number\",\n        \"std\": 0,\n        \"min\": -1,\n        \"max\": 1,\n        \"num_unique_values\": 3,\n        \"samples\": [\n          0,\n          -1,\n          1\n        ],\n        \"semantic_type\": \"\",\n        \"description\": \"\"\n      }\n    },\n    {\n      \"column\": \"EHCodeAnalysis\",\n      \"properties\": {\n        \"dtype\": \"number\",\n        \"std\": 0,\n        \"min\": -1,\n        \"max\": 1,\n        \"num_unique_values\": 3,\n        \"samples\": [\n          0,\n          1,\n          -1\n        ],\n        \"semantic_type\": \"\",\n        \"description\": \"\"\n      }\n    }\n  ]\n}"
            }
          },
          "metadata": {},
          "execution_count": 14
        }
      ]
    },
    {
      "cell_type": "code",
      "source": [
        "final_textual_labeled_data = data_df[data_df.Type!=-1].copy()"
      ],
      "metadata": {
        "id": "t92WpqneZh6J"
      },
      "execution_count": 15,
      "outputs": []
    },
    {
      "cell_type": "code",
      "source": [
        "final_textual_labeled_data.to_pickle(\"final_full_text_data_comments_ehcoleanalysis_col.pkl\")"
      ],
      "metadata": {
        "id": "0-Uh47NpZkB2"
      },
      "execution_count": 16,
      "outputs": []
    },
    {
      "cell_type": "code",
      "source": [
        "! pip install -U accelerate\n",
        "! pip install -U transformers"
      ],
      "metadata": {
        "colab": {
          "base_uri": "https://localhost:8080/"
        },
        "id": "q8RNB8NrZlt7",
        "outputId": "fff31ef3-bac7-4892-e14d-2c0a5a10a649"
      },
      "execution_count": 17,
      "outputs": [
        {
          "output_type": "stream",
          "name": "stdout",
          "text": [
            "Collecting accelerate\n",
            "  Downloading accelerate-0.32.1-py3-none-any.whl (314 kB)\n",
            "\u001b[?25l     \u001b[90m━━━━━━━━━━━━━━━━━━━━━━━━━━━━━━━━━━━━━━━━\u001b[0m \u001b[32m0.0/314.1 kB\u001b[0m \u001b[31m?\u001b[0m eta \u001b[36m-:--:--\u001b[0m\r\u001b[2K     \u001b[91m━━━━━━━━━━━━━━━\u001b[0m\u001b[91m╸\u001b[0m\u001b[90m━━━━━━━━━━━━━━━━━━━━━━━━\u001b[0m \u001b[32m122.9/314.1 kB\u001b[0m \u001b[31m3.7 MB/s\u001b[0m eta \u001b[36m0:00:01\u001b[0m\r\u001b[2K     \u001b[90m━━━━━━━━━━━━━━━━━━━━━━━━━━━━━━━━━━━━━━━━\u001b[0m \u001b[32m314.1/314.1 kB\u001b[0m \u001b[31m4.9 MB/s\u001b[0m eta \u001b[36m0:00:00\u001b[0m\n",
            "\u001b[?25hRequirement already satisfied: numpy<2.0.0,>=1.17 in /usr/local/lib/python3.10/dist-packages (from accelerate) (1.25.2)\n",
            "Requirement already satisfied: packaging>=20.0 in /usr/local/lib/python3.10/dist-packages (from accelerate) (24.1)\n",
            "Requirement already satisfied: psutil in /usr/local/lib/python3.10/dist-packages (from accelerate) (5.9.5)\n",
            "Requirement already satisfied: pyyaml in /usr/local/lib/python3.10/dist-packages (from accelerate) (6.0.1)\n",
            "Requirement already satisfied: torch>=1.10.0 in /usr/local/lib/python3.10/dist-packages (from accelerate) (2.3.0+cu121)\n",
            "Requirement already satisfied: huggingface-hub in /usr/local/lib/python3.10/dist-packages (from accelerate) (0.23.4)\n",
            "Requirement already satisfied: safetensors>=0.3.1 in /usr/local/lib/python3.10/dist-packages (from accelerate) (0.4.3)\n",
            "Requirement already satisfied: filelock in /usr/local/lib/python3.10/dist-packages (from torch>=1.10.0->accelerate) (3.15.4)\n",
            "Requirement already satisfied: typing-extensions>=4.8.0 in /usr/local/lib/python3.10/dist-packages (from torch>=1.10.0->accelerate) (4.12.2)\n",
            "Requirement already satisfied: sympy in /usr/local/lib/python3.10/dist-packages (from torch>=1.10.0->accelerate) (1.12.1)\n",
            "Requirement already satisfied: networkx in /usr/local/lib/python3.10/dist-packages (from torch>=1.10.0->accelerate) (3.3)\n",
            "Requirement already satisfied: jinja2 in /usr/local/lib/python3.10/dist-packages (from torch>=1.10.0->accelerate) (3.1.4)\n",
            "Requirement already satisfied: fsspec in /usr/local/lib/python3.10/dist-packages (from torch>=1.10.0->accelerate) (2023.6.0)\n",
            "Collecting nvidia-cuda-nvrtc-cu12==12.1.105 (from torch>=1.10.0->accelerate)\n",
            "  Using cached nvidia_cuda_nvrtc_cu12-12.1.105-py3-none-manylinux1_x86_64.whl (23.7 MB)\n",
            "Collecting nvidia-cuda-runtime-cu12==12.1.105 (from torch>=1.10.0->accelerate)\n",
            "  Using cached nvidia_cuda_runtime_cu12-12.1.105-py3-none-manylinux1_x86_64.whl (823 kB)\n",
            "Collecting nvidia-cuda-cupti-cu12==12.1.105 (from torch>=1.10.0->accelerate)\n",
            "  Using cached nvidia_cuda_cupti_cu12-12.1.105-py3-none-manylinux1_x86_64.whl (14.1 MB)\n",
            "Collecting nvidia-cudnn-cu12==8.9.2.26 (from torch>=1.10.0->accelerate)\n",
            "  Using cached nvidia_cudnn_cu12-8.9.2.26-py3-none-manylinux1_x86_64.whl (731.7 MB)\n",
            "Collecting nvidia-cublas-cu12==12.1.3.1 (from torch>=1.10.0->accelerate)\n",
            "  Using cached nvidia_cublas_cu12-12.1.3.1-py3-none-manylinux1_x86_64.whl (410.6 MB)\n",
            "Collecting nvidia-cufft-cu12==11.0.2.54 (from torch>=1.10.0->accelerate)\n",
            "  Using cached nvidia_cufft_cu12-11.0.2.54-py3-none-manylinux1_x86_64.whl (121.6 MB)\n",
            "Collecting nvidia-curand-cu12==10.3.2.106 (from torch>=1.10.0->accelerate)\n",
            "  Using cached nvidia_curand_cu12-10.3.2.106-py3-none-manylinux1_x86_64.whl (56.5 MB)\n",
            "Collecting nvidia-cusolver-cu12==11.4.5.107 (from torch>=1.10.0->accelerate)\n",
            "  Using cached nvidia_cusolver_cu12-11.4.5.107-py3-none-manylinux1_x86_64.whl (124.2 MB)\n",
            "Collecting nvidia-cusparse-cu12==12.1.0.106 (from torch>=1.10.0->accelerate)\n",
            "  Using cached nvidia_cusparse_cu12-12.1.0.106-py3-none-manylinux1_x86_64.whl (196.0 MB)\n",
            "Collecting nvidia-nccl-cu12==2.20.5 (from torch>=1.10.0->accelerate)\n",
            "  Using cached nvidia_nccl_cu12-2.20.5-py3-none-manylinux2014_x86_64.whl (176.2 MB)\n",
            "Collecting nvidia-nvtx-cu12==12.1.105 (from torch>=1.10.0->accelerate)\n",
            "  Using cached nvidia_nvtx_cu12-12.1.105-py3-none-manylinux1_x86_64.whl (99 kB)\n",
            "Requirement already satisfied: triton==2.3.0 in /usr/local/lib/python3.10/dist-packages (from torch>=1.10.0->accelerate) (2.3.0)\n",
            "Collecting nvidia-nvjitlink-cu12 (from nvidia-cusolver-cu12==11.4.5.107->torch>=1.10.0->accelerate)\n",
            "  Downloading nvidia_nvjitlink_cu12-12.5.82-py3-none-manylinux2014_x86_64.whl (21.3 MB)\n",
            "\u001b[2K     \u001b[90m━━━━━━━━━━━━━━━━━━━━━━━━━━━━━━━━━━━━━━━━\u001b[0m \u001b[32m21.3/21.3 MB\u001b[0m \u001b[31m58.2 MB/s\u001b[0m eta \u001b[36m0:00:00\u001b[0m\n",
            "\u001b[?25hRequirement already satisfied: requests in /usr/local/lib/python3.10/dist-packages (from huggingface-hub->accelerate) (2.31.0)\n",
            "Requirement already satisfied: tqdm>=4.42.1 in /usr/local/lib/python3.10/dist-packages (from huggingface-hub->accelerate) (4.66.4)\n",
            "Requirement already satisfied: MarkupSafe>=2.0 in /usr/local/lib/python3.10/dist-packages (from jinja2->torch>=1.10.0->accelerate) (2.1.5)\n",
            "Requirement already satisfied: charset-normalizer<4,>=2 in /usr/local/lib/python3.10/dist-packages (from requests->huggingface-hub->accelerate) (3.3.2)\n",
            "Requirement already satisfied: idna<4,>=2.5 in /usr/local/lib/python3.10/dist-packages (from requests->huggingface-hub->accelerate) (3.7)\n",
            "Requirement already satisfied: urllib3<3,>=1.21.1 in /usr/local/lib/python3.10/dist-packages (from requests->huggingface-hub->accelerate) (2.0.7)\n",
            "Requirement already satisfied: certifi>=2017.4.17 in /usr/local/lib/python3.10/dist-packages (from requests->huggingface-hub->accelerate) (2024.6.2)\n",
            "Requirement already satisfied: mpmath<1.4.0,>=1.1.0 in /usr/local/lib/python3.10/dist-packages (from sympy->torch>=1.10.0->accelerate) (1.3.0)\n",
            "Installing collected packages: nvidia-nvtx-cu12, nvidia-nvjitlink-cu12, nvidia-nccl-cu12, nvidia-curand-cu12, nvidia-cufft-cu12, nvidia-cuda-runtime-cu12, nvidia-cuda-nvrtc-cu12, nvidia-cuda-cupti-cu12, nvidia-cublas-cu12, nvidia-cusparse-cu12, nvidia-cudnn-cu12, nvidia-cusolver-cu12, accelerate\n",
            "Successfully installed accelerate-0.32.1 nvidia-cublas-cu12-12.1.3.1 nvidia-cuda-cupti-cu12-12.1.105 nvidia-cuda-nvrtc-cu12-12.1.105 nvidia-cuda-runtime-cu12-12.1.105 nvidia-cudnn-cu12-8.9.2.26 nvidia-cufft-cu12-11.0.2.54 nvidia-curand-cu12-10.3.2.106 nvidia-cusolver-cu12-11.4.5.107 nvidia-cusparse-cu12-12.1.0.106 nvidia-nccl-cu12-2.20.5 nvidia-nvjitlink-cu12-12.5.82 nvidia-nvtx-cu12-12.1.105\n",
            "Requirement already satisfied: transformers in /usr/local/lib/python3.10/dist-packages (4.41.2)\n",
            "Collecting transformers\n",
            "  Downloading transformers-4.42.3-py3-none-any.whl (9.3 MB)\n",
            "\u001b[2K     \u001b[90m━━━━━━━━━━━━━━━━━━━━━━━━━━━━━━━━━━━━━━━━\u001b[0m \u001b[32m9.3/9.3 MB\u001b[0m \u001b[31m27.4 MB/s\u001b[0m eta \u001b[36m0:00:00\u001b[0m\n",
            "\u001b[?25hRequirement already satisfied: filelock in /usr/local/lib/python3.10/dist-packages (from transformers) (3.15.4)\n",
            "Requirement already satisfied: huggingface-hub<1.0,>=0.23.2 in /usr/local/lib/python3.10/dist-packages (from transformers) (0.23.4)\n",
            "Requirement already satisfied: numpy<2.0,>=1.17 in /usr/local/lib/python3.10/dist-packages (from transformers) (1.25.2)\n",
            "Requirement already satisfied: packaging>=20.0 in /usr/local/lib/python3.10/dist-packages (from transformers) (24.1)\n",
            "Requirement already satisfied: pyyaml>=5.1 in /usr/local/lib/python3.10/dist-packages (from transformers) (6.0.1)\n",
            "Requirement already satisfied: regex!=2019.12.17 in /usr/local/lib/python3.10/dist-packages (from transformers) (2024.5.15)\n",
            "Requirement already satisfied: requests in /usr/local/lib/python3.10/dist-packages (from transformers) (2.31.0)\n",
            "Requirement already satisfied: safetensors>=0.4.1 in /usr/local/lib/python3.10/dist-packages (from transformers) (0.4.3)\n",
            "Requirement already satisfied: tokenizers<0.20,>=0.19 in /usr/local/lib/python3.10/dist-packages (from transformers) (0.19.1)\n",
            "Requirement already satisfied: tqdm>=4.27 in /usr/local/lib/python3.10/dist-packages (from transformers) (4.66.4)\n",
            "Requirement already satisfied: fsspec>=2023.5.0 in /usr/local/lib/python3.10/dist-packages (from huggingface-hub<1.0,>=0.23.2->transformers) (2023.6.0)\n",
            "Requirement already satisfied: typing-extensions>=3.7.4.3 in /usr/local/lib/python3.10/dist-packages (from huggingface-hub<1.0,>=0.23.2->transformers) (4.12.2)\n",
            "Requirement already satisfied: charset-normalizer<4,>=2 in /usr/local/lib/python3.10/dist-packages (from requests->transformers) (3.3.2)\n",
            "Requirement already satisfied: idna<4,>=2.5 in /usr/local/lib/python3.10/dist-packages (from requests->transformers) (3.7)\n",
            "Requirement already satisfied: urllib3<3,>=1.21.1 in /usr/local/lib/python3.10/dist-packages (from requests->transformers) (2.0.7)\n",
            "Requirement already satisfied: certifi>=2017.4.17 in /usr/local/lib/python3.10/dist-packages (from requests->transformers) (2024.6.2)\n",
            "Installing collected packages: transformers\n",
            "  Attempting uninstall: transformers\n",
            "    Found existing installation: transformers 4.41.2\n",
            "    Uninstalling transformers-4.41.2:\n",
            "      Successfully uninstalled transformers-4.41.2\n",
            "Successfully installed transformers-4.42.3\n"
          ]
        }
      ]
    },
    {
      "cell_type": "code",
      "source": [
        "import torch\n",
        "import pandas as pd\n",
        "import numpy as np\n",
        "\n",
        "from transformers import DistilBertTokenizerFast, DistilBertForSequenceClassification\n",
        "from transformers import Trainer, TrainingArguments\n",
        "\n",
        "from sklearn.metrics import accuracy_score, precision_score, recall_score, f1_score, roc_auc_score\n",
        "from sklearn.model_selection import train_test_split\n",
        "from sklearn.model_selection import StratifiedKFold"
      ],
      "metadata": {
        "id": "RfKL3sBwZoDs"
      },
      "execution_count": 18,
      "outputs": []
    },
    {
      "cell_type": "code",
      "source": [
        "model_name = 'distilbert-base-uncased'\n",
        "device_name = 'cuda'\n",
        "#device_name = 'cpu'\n",
        "max_length = 512\n",
        "cached_model_directory_name = 'distilbert-ehbugs'"
      ],
      "metadata": {
        "id": "bH9SCr-paZo0"
      },
      "execution_count": 19,
      "outputs": []
    },
    {
      "cell_type": "code",
      "source": [
        "# Data Loading and basic processing\n",
        "# dataset = pd.read_pickle('data/full_text_comments_ehcoleanalysis_col.pkl')\n",
        "dataset = pd.read_pickle('final_full_text_data_comments_ehcoleanalysis_col.pkl')"
      ],
      "metadata": {
        "id": "rsajNU0YabCd"
      },
      "execution_count": 20,
      "outputs": []
    },
    {
      "cell_type": "code",
      "source": [
        "dataset.fillna('',inplace=True)\n",
        "dataset['Textual_Type'] = 'EH-Bug'\n",
        "dataset.loc[dataset['Type']==0,'Textual_Type'] = 'Non-EH-Bug'\n",
        "dataset['SummaryDescriptionComments']= dataset.apply(lambda row: row['Summary'] + ' ' + row['Description'] + ' ' + row['Comments'],axis=1).values"
      ],
      "metadata": {
        "id": "lbqFOx_Rahuv"
      },
      "execution_count": 21,
      "outputs": []
    },
    {
      "cell_type": "code",
      "source": [
        "dataset"
      ],
      "metadata": {
        "colab": {
          "base_uri": "https://localhost:8080/",
          "height": 981
        },
        "id": "UQVYVZqqai9E",
        "outputId": "97ae8bdb-5c7c-4615-b5fd-95b573231d42"
      },
      "execution_count": 24,
      "outputs": [
        {
          "output_type": "execute_result",
          "data": {
            "text/plain": [
              "                  Key                                            Summary  \\\n",
              "0         HADOOP-9782          Datanode daemon cannot be started on OS X   \n",
              "1           YARN-8040  [UI2] New YARN UI webapp does not respect curr...   \n",
              "5          HDFS-12963  Error log level in ShortCircuitRegistry#removeShm   \n",
              "6        HADOOP-14371  License error in TestLoadBalancingKMSClientPro...   \n",
              "8           HDFS-5047  Supress logging of full stack trace of quota a...   \n",
              "...               ...                                                ...   \n",
              "10369       HDFS-6180  dead node count / listing is very broken in JM...   \n",
              "10370     HADOOP-6498            IPC client  bug may cause rpc call hang   \n",
              "10371    HADOOP-12902  JavaDocs for SignerSecretProvider are out-of-d...   \n",
              "10372       YARN-6050           AMs can't be scheduled on racks or nodes   \n",
              "10373  MAPREDUCE-4892  CombineFileInputFormat node input split can be...   \n",
              "\n",
              "                                             Description  \\\n",
              "0      Datanode fails to start with the following exc...   \n",
              "1      When ui2 is accessed behind proxy like knox/ng...   \n",
              "5      {code:title=org.apache.hadoop.hdfs.server.data...   \n",
              "6      License error in TestLoadBalancingKMSClientPro...   \n",
              "8      This is a follow up to HDFS-4714, which made a...   \n",
              "...                                                  ...   \n",
              "10369  After bringing up a 578 node cluster with 13 d...   \n",
              "10370  I can reproduce some rpc call  hang bug when c...   \n",
              "10371  The Javadocs in {{AuthenticationFilter}} say:\\...   \n",
              "10372  Yarn itself supports rack/node aware schedulin...   \n",
              "10373  The CombineFileInputFormat split generation lo...   \n",
              "\n",
              "                                                Comments  Type  \\\n",
              "0      Tests also broke on Mac. Seeing this msg in te...     0   \n",
              "1      Hi [~leftnoteasy]. could u pls help to review ...     0   \n",
              "5      +1 lgtm non-binding. hello, [~ajisakaa],can yo...     0   \n",
              "6      Nice catch, [~xiaodong.hu]! +1 LGTM pending Je...     0   \n",
              "8      +1 looks good to me. Committed to trunk, branc...     1   \n",
              "...                                                  ...   ...   \n",
              "10369  Also, if a live node is shutdown, the counter ...     0   \n",
              "10370  This bug is related to the ipc/Client.java. In...     1   \n",
              "10371  Test failures are likely unrelated. Thanks [~g...     0   \n",
              "10372  Thanks [~rkanter], thanks will be very useful!...     0   \n",
              "10373  The logic to balance the load on the nodes is ...     0   \n",
              "\n",
              "       EHCodeAnalysis Textual_Type  \\\n",
              "0                   0   Non-EH-Bug   \n",
              "1                   1   Non-EH-Bug   \n",
              "5                   1   Non-EH-Bug   \n",
              "6                   0   Non-EH-Bug   \n",
              "8                   0       EH-Bug   \n",
              "...               ...          ...   \n",
              "10369               0   Non-EH-Bug   \n",
              "10370               0       EH-Bug   \n",
              "10371               1   Non-EH-Bug   \n",
              "10372               0   Non-EH-Bug   \n",
              "10373               0   Non-EH-Bug   \n",
              "\n",
              "                              SummaryDescriptionComments  \n",
              "0      Datanode daemon cannot be started on OS X Data...  \n",
              "1      [UI2] New YARN UI webapp does not respect curr...  \n",
              "5      Error log level in ShortCircuitRegistry#remove...  \n",
              "6      License error in TestLoadBalancingKMSClientPro...  \n",
              "8      Supress logging of full stack trace of quota a...  \n",
              "...                                                  ...  \n",
              "10369  dead node count / listing is very broken in JM...  \n",
              "10370  IPC client  bug may cause rpc call hang I can ...  \n",
              "10371  JavaDocs for SignerSecretProvider are out-of-d...  \n",
              "10372  AMs can't be scheduled on racks or nodes Yarn ...  \n",
              "10373  CombineFileInputFormat node input split can be...  \n",
              "\n",
              "[7100 rows x 8 columns]"
            ],
            "text/html": [
              "\n",
              "  <div id=\"df-fde10bbe-ba8e-43bc-9bdd-f8a07ee63a14\" class=\"colab-df-container\">\n",
              "    <div>\n",
              "<style scoped>\n",
              "    .dataframe tbody tr th:only-of-type {\n",
              "        vertical-align: middle;\n",
              "    }\n",
              "\n",
              "    .dataframe tbody tr th {\n",
              "        vertical-align: top;\n",
              "    }\n",
              "\n",
              "    .dataframe thead th {\n",
              "        text-align: right;\n",
              "    }\n",
              "</style>\n",
              "<table border=\"1\" class=\"dataframe\">\n",
              "  <thead>\n",
              "    <tr style=\"text-align: right;\">\n",
              "      <th></th>\n",
              "      <th>Key</th>\n",
              "      <th>Summary</th>\n",
              "      <th>Description</th>\n",
              "      <th>Comments</th>\n",
              "      <th>Type</th>\n",
              "      <th>EHCodeAnalysis</th>\n",
              "      <th>Textual_Type</th>\n",
              "      <th>SummaryDescriptionComments</th>\n",
              "    </tr>\n",
              "  </thead>\n",
              "  <tbody>\n",
              "    <tr>\n",
              "      <th>0</th>\n",
              "      <td>HADOOP-9782</td>\n",
              "      <td>Datanode daemon cannot be started on OS X</td>\n",
              "      <td>Datanode fails to start with the following exc...</td>\n",
              "      <td>Tests also broke on Mac. Seeing this msg in te...</td>\n",
              "      <td>0</td>\n",
              "      <td>0</td>\n",
              "      <td>Non-EH-Bug</td>\n",
              "      <td>Datanode daemon cannot be started on OS X Data...</td>\n",
              "    </tr>\n",
              "    <tr>\n",
              "      <th>1</th>\n",
              "      <td>YARN-8040</td>\n",
              "      <td>[UI2] New YARN UI webapp does not respect curr...</td>\n",
              "      <td>When ui2 is accessed behind proxy like knox/ng...</td>\n",
              "      <td>Hi [~leftnoteasy]. could u pls help to review ...</td>\n",
              "      <td>0</td>\n",
              "      <td>1</td>\n",
              "      <td>Non-EH-Bug</td>\n",
              "      <td>[UI2] New YARN UI webapp does not respect curr...</td>\n",
              "    </tr>\n",
              "    <tr>\n",
              "      <th>5</th>\n",
              "      <td>HDFS-12963</td>\n",
              "      <td>Error log level in ShortCircuitRegistry#removeShm</td>\n",
              "      <td>{code:title=org.apache.hadoop.hdfs.server.data...</td>\n",
              "      <td>+1 lgtm non-binding. hello, [~ajisakaa],can yo...</td>\n",
              "      <td>0</td>\n",
              "      <td>1</td>\n",
              "      <td>Non-EH-Bug</td>\n",
              "      <td>Error log level in ShortCircuitRegistry#remove...</td>\n",
              "    </tr>\n",
              "    <tr>\n",
              "      <th>6</th>\n",
              "      <td>HADOOP-14371</td>\n",
              "      <td>License error in TestLoadBalancingKMSClientPro...</td>\n",
              "      <td>License error in TestLoadBalancingKMSClientPro...</td>\n",
              "      <td>Nice catch, [~xiaodong.hu]! +1 LGTM pending Je...</td>\n",
              "      <td>0</td>\n",
              "      <td>0</td>\n",
              "      <td>Non-EH-Bug</td>\n",
              "      <td>License error in TestLoadBalancingKMSClientPro...</td>\n",
              "    </tr>\n",
              "    <tr>\n",
              "      <th>8</th>\n",
              "      <td>HDFS-5047</td>\n",
              "      <td>Supress logging of full stack trace of quota a...</td>\n",
              "      <td>This is a follow up to HDFS-4714, which made a...</td>\n",
              "      <td>+1 looks good to me. Committed to trunk, branc...</td>\n",
              "      <td>1</td>\n",
              "      <td>0</td>\n",
              "      <td>EH-Bug</td>\n",
              "      <td>Supress logging of full stack trace of quota a...</td>\n",
              "    </tr>\n",
              "    <tr>\n",
              "      <th>...</th>\n",
              "      <td>...</td>\n",
              "      <td>...</td>\n",
              "      <td>...</td>\n",
              "      <td>...</td>\n",
              "      <td>...</td>\n",
              "      <td>...</td>\n",
              "      <td>...</td>\n",
              "      <td>...</td>\n",
              "    </tr>\n",
              "    <tr>\n",
              "      <th>10369</th>\n",
              "      <td>HDFS-6180</td>\n",
              "      <td>dead node count / listing is very broken in JM...</td>\n",
              "      <td>After bringing up a 578 node cluster with 13 d...</td>\n",
              "      <td>Also, if a live node is shutdown, the counter ...</td>\n",
              "      <td>0</td>\n",
              "      <td>0</td>\n",
              "      <td>Non-EH-Bug</td>\n",
              "      <td>dead node count / listing is very broken in JM...</td>\n",
              "    </tr>\n",
              "    <tr>\n",
              "      <th>10370</th>\n",
              "      <td>HADOOP-6498</td>\n",
              "      <td>IPC client  bug may cause rpc call hang</td>\n",
              "      <td>I can reproduce some rpc call  hang bug when c...</td>\n",
              "      <td>This bug is related to the ipc/Client.java. In...</td>\n",
              "      <td>1</td>\n",
              "      <td>0</td>\n",
              "      <td>EH-Bug</td>\n",
              "      <td>IPC client  bug may cause rpc call hang I can ...</td>\n",
              "    </tr>\n",
              "    <tr>\n",
              "      <th>10371</th>\n",
              "      <td>HADOOP-12902</td>\n",
              "      <td>JavaDocs for SignerSecretProvider are out-of-d...</td>\n",
              "      <td>The Javadocs in {{AuthenticationFilter}} say:\\...</td>\n",
              "      <td>Test failures are likely unrelated. Thanks [~g...</td>\n",
              "      <td>0</td>\n",
              "      <td>1</td>\n",
              "      <td>Non-EH-Bug</td>\n",
              "      <td>JavaDocs for SignerSecretProvider are out-of-d...</td>\n",
              "    </tr>\n",
              "    <tr>\n",
              "      <th>10372</th>\n",
              "      <td>YARN-6050</td>\n",
              "      <td>AMs can't be scheduled on racks or nodes</td>\n",
              "      <td>Yarn itself supports rack/node aware schedulin...</td>\n",
              "      <td>Thanks [~rkanter], thanks will be very useful!...</td>\n",
              "      <td>0</td>\n",
              "      <td>0</td>\n",
              "      <td>Non-EH-Bug</td>\n",
              "      <td>AMs can't be scheduled on racks or nodes Yarn ...</td>\n",
              "    </tr>\n",
              "    <tr>\n",
              "      <th>10373</th>\n",
              "      <td>MAPREDUCE-4892</td>\n",
              "      <td>CombineFileInputFormat node input split can be...</td>\n",
              "      <td>The CombineFileInputFormat split generation lo...</td>\n",
              "      <td>The logic to balance the load on the nodes is ...</td>\n",
              "      <td>0</td>\n",
              "      <td>0</td>\n",
              "      <td>Non-EH-Bug</td>\n",
              "      <td>CombineFileInputFormat node input split can be...</td>\n",
              "    </tr>\n",
              "  </tbody>\n",
              "</table>\n",
              "<p>7100 rows × 8 columns</p>\n",
              "</div>\n",
              "    <div class=\"colab-df-buttons\">\n",
              "\n",
              "  <div class=\"colab-df-container\">\n",
              "    <button class=\"colab-df-convert\" onclick=\"convertToInteractive('df-fde10bbe-ba8e-43bc-9bdd-f8a07ee63a14')\"\n",
              "            title=\"Convert this dataframe to an interactive table.\"\n",
              "            style=\"display:none;\">\n",
              "\n",
              "  <svg xmlns=\"http://www.w3.org/2000/svg\" height=\"24px\" viewBox=\"0 -960 960 960\">\n",
              "    <path d=\"M120-120v-720h720v720H120Zm60-500h600v-160H180v160Zm220 220h160v-160H400v160Zm0 220h160v-160H400v160ZM180-400h160v-160H180v160Zm440 0h160v-160H620v160ZM180-180h160v-160H180v160Zm440 0h160v-160H620v160Z\"/>\n",
              "  </svg>\n",
              "    </button>\n",
              "\n",
              "  <style>\n",
              "    .colab-df-container {\n",
              "      display:flex;\n",
              "      gap: 12px;\n",
              "    }\n",
              "\n",
              "    .colab-df-convert {\n",
              "      background-color: #E8F0FE;\n",
              "      border: none;\n",
              "      border-radius: 50%;\n",
              "      cursor: pointer;\n",
              "      display: none;\n",
              "      fill: #1967D2;\n",
              "      height: 32px;\n",
              "      padding: 0 0 0 0;\n",
              "      width: 32px;\n",
              "    }\n",
              "\n",
              "    .colab-df-convert:hover {\n",
              "      background-color: #E2EBFA;\n",
              "      box-shadow: 0px 1px 2px rgba(60, 64, 67, 0.3), 0px 1px 3px 1px rgba(60, 64, 67, 0.15);\n",
              "      fill: #174EA6;\n",
              "    }\n",
              "\n",
              "    .colab-df-buttons div {\n",
              "      margin-bottom: 4px;\n",
              "    }\n",
              "\n",
              "    [theme=dark] .colab-df-convert {\n",
              "      background-color: #3B4455;\n",
              "      fill: #D2E3FC;\n",
              "    }\n",
              "\n",
              "    [theme=dark] .colab-df-convert:hover {\n",
              "      background-color: #434B5C;\n",
              "      box-shadow: 0px 1px 3px 1px rgba(0, 0, 0, 0.15);\n",
              "      filter: drop-shadow(0px 1px 2px rgba(0, 0, 0, 0.3));\n",
              "      fill: #FFFFFF;\n",
              "    }\n",
              "  </style>\n",
              "\n",
              "    <script>\n",
              "      const buttonEl =\n",
              "        document.querySelector('#df-fde10bbe-ba8e-43bc-9bdd-f8a07ee63a14 button.colab-df-convert');\n",
              "      buttonEl.style.display =\n",
              "        google.colab.kernel.accessAllowed ? 'block' : 'none';\n",
              "\n",
              "      async function convertToInteractive(key) {\n",
              "        const element = document.querySelector('#df-fde10bbe-ba8e-43bc-9bdd-f8a07ee63a14');\n",
              "        const dataTable =\n",
              "          await google.colab.kernel.invokeFunction('convertToInteractive',\n",
              "                                                    [key], {});\n",
              "        if (!dataTable) return;\n",
              "\n",
              "        const docLinkHtml = 'Like what you see? Visit the ' +\n",
              "          '<a target=\"_blank\" href=https://colab.research.google.com/notebooks/data_table.ipynb>data table notebook</a>'\n",
              "          + ' to learn more about interactive tables.';\n",
              "        element.innerHTML = '';\n",
              "        dataTable['output_type'] = 'display_data';\n",
              "        await google.colab.output.renderOutput(dataTable, element);\n",
              "        const docLink = document.createElement('div');\n",
              "        docLink.innerHTML = docLinkHtml;\n",
              "        element.appendChild(docLink);\n",
              "      }\n",
              "    </script>\n",
              "  </div>\n",
              "\n",
              "\n",
              "<div id=\"df-92f4cf28-39f8-4f92-8ab0-9d2e52687788\">\n",
              "  <button class=\"colab-df-quickchart\" onclick=\"quickchart('df-92f4cf28-39f8-4f92-8ab0-9d2e52687788')\"\n",
              "            title=\"Suggest charts\"\n",
              "            style=\"display:none;\">\n",
              "\n",
              "<svg xmlns=\"http://www.w3.org/2000/svg\" height=\"24px\"viewBox=\"0 0 24 24\"\n",
              "     width=\"24px\">\n",
              "    <g>\n",
              "        <path d=\"M19 3H5c-1.1 0-2 .9-2 2v14c0 1.1.9 2 2 2h14c1.1 0 2-.9 2-2V5c0-1.1-.9-2-2-2zM9 17H7v-7h2v7zm4 0h-2V7h2v10zm4 0h-2v-4h2v4z\"/>\n",
              "    </g>\n",
              "</svg>\n",
              "  </button>\n",
              "\n",
              "<style>\n",
              "  .colab-df-quickchart {\n",
              "      --bg-color: #E8F0FE;\n",
              "      --fill-color: #1967D2;\n",
              "      --hover-bg-color: #E2EBFA;\n",
              "      --hover-fill-color: #174EA6;\n",
              "      --disabled-fill-color: #AAA;\n",
              "      --disabled-bg-color: #DDD;\n",
              "  }\n",
              "\n",
              "  [theme=dark] .colab-df-quickchart {\n",
              "      --bg-color: #3B4455;\n",
              "      --fill-color: #D2E3FC;\n",
              "      --hover-bg-color: #434B5C;\n",
              "      --hover-fill-color: #FFFFFF;\n",
              "      --disabled-bg-color: #3B4455;\n",
              "      --disabled-fill-color: #666;\n",
              "  }\n",
              "\n",
              "  .colab-df-quickchart {\n",
              "    background-color: var(--bg-color);\n",
              "    border: none;\n",
              "    border-radius: 50%;\n",
              "    cursor: pointer;\n",
              "    display: none;\n",
              "    fill: var(--fill-color);\n",
              "    height: 32px;\n",
              "    padding: 0;\n",
              "    width: 32px;\n",
              "  }\n",
              "\n",
              "  .colab-df-quickchart:hover {\n",
              "    background-color: var(--hover-bg-color);\n",
              "    box-shadow: 0 1px 2px rgba(60, 64, 67, 0.3), 0 1px 3px 1px rgba(60, 64, 67, 0.15);\n",
              "    fill: var(--button-hover-fill-color);\n",
              "  }\n",
              "\n",
              "  .colab-df-quickchart-complete:disabled,\n",
              "  .colab-df-quickchart-complete:disabled:hover {\n",
              "    background-color: var(--disabled-bg-color);\n",
              "    fill: var(--disabled-fill-color);\n",
              "    box-shadow: none;\n",
              "  }\n",
              "\n",
              "  .colab-df-spinner {\n",
              "    border: 2px solid var(--fill-color);\n",
              "    border-color: transparent;\n",
              "    border-bottom-color: var(--fill-color);\n",
              "    animation:\n",
              "      spin 1s steps(1) infinite;\n",
              "  }\n",
              "\n",
              "  @keyframes spin {\n",
              "    0% {\n",
              "      border-color: transparent;\n",
              "      border-bottom-color: var(--fill-color);\n",
              "      border-left-color: var(--fill-color);\n",
              "    }\n",
              "    20% {\n",
              "      border-color: transparent;\n",
              "      border-left-color: var(--fill-color);\n",
              "      border-top-color: var(--fill-color);\n",
              "    }\n",
              "    30% {\n",
              "      border-color: transparent;\n",
              "      border-left-color: var(--fill-color);\n",
              "      border-top-color: var(--fill-color);\n",
              "      border-right-color: var(--fill-color);\n",
              "    }\n",
              "    40% {\n",
              "      border-color: transparent;\n",
              "      border-right-color: var(--fill-color);\n",
              "      border-top-color: var(--fill-color);\n",
              "    }\n",
              "    60% {\n",
              "      border-color: transparent;\n",
              "      border-right-color: var(--fill-color);\n",
              "    }\n",
              "    80% {\n",
              "      border-color: transparent;\n",
              "      border-right-color: var(--fill-color);\n",
              "      border-bottom-color: var(--fill-color);\n",
              "    }\n",
              "    90% {\n",
              "      border-color: transparent;\n",
              "      border-bottom-color: var(--fill-color);\n",
              "    }\n",
              "  }\n",
              "</style>\n",
              "\n",
              "  <script>\n",
              "    async function quickchart(key) {\n",
              "      const quickchartButtonEl =\n",
              "        document.querySelector('#' + key + ' button');\n",
              "      quickchartButtonEl.disabled = true;  // To prevent multiple clicks.\n",
              "      quickchartButtonEl.classList.add('colab-df-spinner');\n",
              "      try {\n",
              "        const charts = await google.colab.kernel.invokeFunction(\n",
              "            'suggestCharts', [key], {});\n",
              "      } catch (error) {\n",
              "        console.error('Error during call to suggestCharts:', error);\n",
              "      }\n",
              "      quickchartButtonEl.classList.remove('colab-df-spinner');\n",
              "      quickchartButtonEl.classList.add('colab-df-quickchart-complete');\n",
              "    }\n",
              "    (() => {\n",
              "      let quickchartButtonEl =\n",
              "        document.querySelector('#df-92f4cf28-39f8-4f92-8ab0-9d2e52687788 button');\n",
              "      quickchartButtonEl.style.display =\n",
              "        google.colab.kernel.accessAllowed ? 'block' : 'none';\n",
              "    })();\n",
              "  </script>\n",
              "</div>\n",
              "\n",
              "  <div id=\"id_42f3486d-3e9e-4275-8cb2-508672ecd1a6\">\n",
              "    <style>\n",
              "      .colab-df-generate {\n",
              "        background-color: #E8F0FE;\n",
              "        border: none;\n",
              "        border-radius: 50%;\n",
              "        cursor: pointer;\n",
              "        display: none;\n",
              "        fill: #1967D2;\n",
              "        height: 32px;\n",
              "        padding: 0 0 0 0;\n",
              "        width: 32px;\n",
              "      }\n",
              "\n",
              "      .colab-df-generate:hover {\n",
              "        background-color: #E2EBFA;\n",
              "        box-shadow: 0px 1px 2px rgba(60, 64, 67, 0.3), 0px 1px 3px 1px rgba(60, 64, 67, 0.15);\n",
              "        fill: #174EA6;\n",
              "      }\n",
              "\n",
              "      [theme=dark] .colab-df-generate {\n",
              "        background-color: #3B4455;\n",
              "        fill: #D2E3FC;\n",
              "      }\n",
              "\n",
              "      [theme=dark] .colab-df-generate:hover {\n",
              "        background-color: #434B5C;\n",
              "        box-shadow: 0px 1px 3px 1px rgba(0, 0, 0, 0.15);\n",
              "        filter: drop-shadow(0px 1px 2px rgba(0, 0, 0, 0.3));\n",
              "        fill: #FFFFFF;\n",
              "      }\n",
              "    </style>\n",
              "    <button class=\"colab-df-generate\" onclick=\"generateWithVariable('dataset')\"\n",
              "            title=\"Generate code using this dataframe.\"\n",
              "            style=\"display:none;\">\n",
              "\n",
              "  <svg xmlns=\"http://www.w3.org/2000/svg\" height=\"24px\"viewBox=\"0 0 24 24\"\n",
              "       width=\"24px\">\n",
              "    <path d=\"M7,19H8.4L18.45,9,17,7.55,7,17.6ZM5,21V16.75L18.45,3.32a2,2,0,0,1,2.83,0l1.4,1.43a1.91,1.91,0,0,1,.58,1.4,1.91,1.91,0,0,1-.58,1.4L9.25,21ZM18.45,9,17,7.55Zm-12,3A5.31,5.31,0,0,0,4.9,8.1,5.31,5.31,0,0,0,1,6.5,5.31,5.31,0,0,0,4.9,4.9,5.31,5.31,0,0,0,6.5,1,5.31,5.31,0,0,0,8.1,4.9,5.31,5.31,0,0,0,12,6.5,5.46,5.46,0,0,0,6.5,12Z\"/>\n",
              "  </svg>\n",
              "    </button>\n",
              "    <script>\n",
              "      (() => {\n",
              "      const buttonEl =\n",
              "        document.querySelector('#id_42f3486d-3e9e-4275-8cb2-508672ecd1a6 button.colab-df-generate');\n",
              "      buttonEl.style.display =\n",
              "        google.colab.kernel.accessAllowed ? 'block' : 'none';\n",
              "\n",
              "      buttonEl.onclick = () => {\n",
              "        google.colab.notebook.generateWithVariable('dataset');\n",
              "      }\n",
              "      })();\n",
              "    </script>\n",
              "  </div>\n",
              "\n",
              "    </div>\n",
              "  </div>\n"
            ],
            "application/vnd.google.colaboratory.intrinsic+json": {
              "type": "dataframe",
              "variable_name": "dataset",
              "summary": "{\n  \"name\": \"dataset\",\n  \"rows\": 7100,\n  \"fields\": [\n    {\n      \"column\": \"Key\",\n      \"properties\": {\n        \"dtype\": \"string\",\n        \"num_unique_values\": 7100,\n        \"samples\": [\n          \"YARN-3270\",\n          \"HDFS-11583\",\n          \"MAPREDUCE-3478\"\n        ],\n        \"semantic_type\": \"\",\n        \"description\": \"\"\n      }\n    },\n    {\n      \"column\": \"Summary\",\n      \"properties\": {\n        \"dtype\": \"string\",\n        \"num_unique_values\": 7076,\n        \"samples\": [\n          \"OOM in AM can turn it into a zombie.\",\n          \"ZStandardDecompressor.c mistakes a class for an instance\",\n          \"Fix a typo (STRICT_IE6) in Encrypted Shuffle\"\n        ],\n        \"semantic_type\": \"\",\n        \"description\": \"\"\n      }\n    },\n    {\n      \"column\": \"Description\",\n      \"properties\": {\n        \"dtype\": \"string\",\n        \"num_unique_values\": 6903,\n        \"samples\": [\n          \"JobTracker should be ResourceManager, and {{hadoop mradmin}} should be {{yarn rmadmin}} in ServiceLevelAuth.md.\\n{code}\\nThe service-level authorization configuration for the NameNode and JobTracker can be changed without restarting either of the Hadoop master daemons. The cluster administrator can change `$HADOOP_CONF_DIR/hadoop-policy.xml` on the master nodes and instruct the NameNode and JobTracker to reload their respective configurations via the `-refreshServiceAcl` switch to `dfsadmin` and `mradmin` commands respectively.\\n\\nRefresh the service-level authorization configuration for the NameNode:\\n\\n       $ bin/hadoop dfsadmin -refreshServiceAcl\\n\\nRefresh the service-level authorization configuration for the JobTracker:\\n\\n       $ bin/hadoop mradmin -refreshServiceAcl\\n{code}\",\n          \"{{hadoop.ipc.TestSaslRPC}} is broken post HADOOP-12324; string coming in exception is more detailed than the test expects.\\n\\nemergency patch in progress...\",\n          \"The YARN-233 patch for getting YARN working on Windows forgot to include a corresponding change in {{TestMapReduceChildJVM}}, so the test is failing now.\"\n        ],\n        \"semantic_type\": \"\",\n        \"description\": \"\"\n      }\n    },\n    {\n      \"column\": \"Comments\",\n      \"properties\": {\n        \"dtype\": \"string\",\n        \"num_unique_values\": 7087,\n        \"samples\": [\n          \"Attach a patch to fix this. Please help to see if I am printing correctly, [~weichiu]. Thanks. +1 Thanks [~linyiqun]! Attach a new patch for branch-2. Test failure are not related. Committed this to trunk and branch-2. Thanks [~weichiu] for the review!\",\n          \"Update a new patch to fix whitespace error. Is this issue similar to YARN-3678 ? Thanks [~Naganarasimha] for the info. Yes, it seems same problem. I think the problem does not only exist for 'DelayedProcessKiller', it might occur for every call to 'signal_container_as_user'.  Hi [~hex108],\\nthanks for working on this jira. I am not from c back ground,  neverthless checked the API of kill and few doubts i have here\\nIIUC existing code checks whether container process has created any sub process then kill all t\",\n          \"Attaching patch 001. +1. Checking this in. Thanks [~vrushalic] for your patch! I committed it to trunk and branch-2\"\n        ],\n        \"semantic_type\": \"\",\n        \"description\": \"\"\n      }\n    },\n    {\n      \"column\": \"Type\",\n      \"properties\": {\n        \"dtype\": \"number\",\n        \"std\": 0,\n        \"min\": 0,\n        \"max\": 1,\n        \"num_unique_values\": 2,\n        \"samples\": [\n          1,\n          0\n        ],\n        \"semantic_type\": \"\",\n        \"description\": \"\"\n      }\n    },\n    {\n      \"column\": \"EHCodeAnalysis\",\n      \"properties\": {\n        \"dtype\": \"number\",\n        \"std\": 0,\n        \"min\": 0,\n        \"max\": 1,\n        \"num_unique_values\": 2,\n        \"samples\": [\n          1,\n          0\n        ],\n        \"semantic_type\": \"\",\n        \"description\": \"\"\n      }\n    },\n    {\n      \"column\": \"Textual_Type\",\n      \"properties\": {\n        \"dtype\": \"category\",\n        \"num_unique_values\": 2,\n        \"samples\": [\n          \"EH-Bug\",\n          \"Non-EH-Bug\"\n        ],\n        \"semantic_type\": \"\",\n        \"description\": \"\"\n      }\n    },\n    {\n      \"column\": \"SummaryDescriptionComments\",\n      \"properties\": {\n        \"dtype\": \"string\",\n        \"num_unique_values\": 7099,\n        \"samples\": [\n          \"Deadlock in DFSClient#DFSOutputStream WhiIe was running some append-related tests, I hit this deadlock:\\n{noformat}\\nFound one Java-level deadlock:\\n=============================\\n\\\"Thread-3\\\":\\n  waiting to lock monitor 0x000000012ee044f0 (object 0x0000000107a0ded0, a org.apache.hadoop.hdfs.DFSClient$DFSOutputStream),\\n  which is held by \\\"main\\\"\\n\\\"main\\\":\\n  waiting to lock monitor 0x000000012eeb71a8 (object 0x00000001082b0748, a org.apache.hadoop.hdfs.DFSClient$LeaseChecker),\\n  which is held by \\\"Thread-3\\\"\\n\\nJava stack information for the threads listed above:\\n===================================================\\n\\\"Thread-3\\\":\\n\\tat org.apache.hadoop.hdfs.DFSClient$DFSOutputStream.close(DFSClient.java:3582)\\n\\t- waiting to lock <0x0000000107a0ded0> (a org.apache.hadoop.hdfs.DFSClient$DFSOutputStream)\\n\\tat org.apache.hadoop.hdfs.DFSClient$LeaseChecker.close(DFSClient.java:1175)\\n\\t- locked <0x00000001082b0748> (a org.apache.hadoop.hdfs.DFSClient$LeaseChecker)\\n\\tat org.apache.hadoop.hdfs.DFSClient.close(DFSClient.java:306)\\n\\t- locked <0x000000010824d640> (a org.apache.hadoop.hdfs.DFSClient)\\n        - waiting to lock <0x0000000107a0ded0> (a org.apache.hadoop.hdfs.DFSClient$DFSOutputStream)\\n        at org.apache.hadoop.hdfs.DFSClient$LeaseChecker.close(DFSClient.java:1175)\\n        - locked <0x00000001082b0748> (a org.apache.hadoop.hdfs.DFSClient$LeaseChecker)\\n        at org.apache.hadoop.hdfs.DFSClient.close(DFSClient.java:306)\\n        - locked <0x000000010824d640> (a org.apache.hadoop.hdfs.DFSClient)\\n        at org.apache.hadoop.hdfs.DistributedFileSystem.close(DistributedFileSystem.java:325)\\n        at org.apache.hadoop.fs.FileSystem$Cache.closeAll(FileSystem.java:1835)\\n        - locked <0x0000000107a77ec8> (a org.apache.hadoop.fs.FileSystem$Cache)\\n        at org.apache.hadoop.fs.FileSystem$Cache$ClientFinalizer.run(FileSystem.java:1851)\\n        - locked <0x00000001079daa00> (a org.apache.hadoop.fs.FileSystem$Cache$ClientFinalizer)\\n\\\"main\\\":\\n        at org.apache.hadoop.hdfs.DFSClient$LeaseChecker.remove(DFSClient.java:1151)\\n        - waiting to lock <0x00000001082b0748> (a org.apache.hadoop.hdfs.DFSClient$LeaseChecker)\\n        at org.apache.hadoop.hdfs.DFSClient$DFSOutputStream.close(DFSClient.java:3609)\\n        - locked <0x0000000107a0ded0> (a org.apache.hadoop.hdfs.DFSClient$DFSOutputStream)\\n        at org.apache.hadoop.fs.FSDataOutputStream$PositionCache.close(FSDataOutputStream.java:61)\\n        at org.apache.hadoop.fs.FSDataOutputStream.close(FSDataOutputStream.java:86)\\n        at org.apache.hadoop.hdfs.TestFileAppend4.testAppend(TestFileAppend4.java:99)\\n        at sun.reflect.NativeMethodAccessorImpl.invoke0(Native Method)\\n        at sun.reflect.NativeMethodAccessorImpl.invoke(NativeMethodAccessorImpl.java:39)\\n        at sun.reflect.DelegatingMethodAccessorImpl.invoke(DelegatingMethodAccessorImpl.java:25)\\n        at java.lang.reflect.Method.invoke(Method.java:597)\\n        at junit.framework.TestCase.runTest(TestCase.java:168)\\n        at junit.framework.TestCase.runBare(TestCase.java:134)\\n        at junit.framework.TestResult$1.protect(TestResult.java:110)\\n        at junit.framework.TestResult.runProtected(TestResult.java:128)\\n        at junit.framework.TestResult.run(TestResult.java:113)\\n        at junit.framework.TestCase.run(TestCase.java:124)\\n        at junit.framework.TestSuite.runTest(TestSuite.java:232)\\n        at junit.framework.TestSuite.run(TestSuite.java:227)\\n        at junit.extensions.TestDecorator.basicRun(TestDecorator.java:24)\\n        at junit.extensions.TestSetup$1.protect(TestSetup.java:23)\\n        at junit.framework.TestResult.runProtected(TestResult.java:128)\\n        at junit.extensions.TestSetup.run(TestSetup.java:27)\\n        at org.apache.tools.ant.taskdefs.optional.junit.JUnitTestRunner.run(JUnitTestRunner.java:420)\\n        at org.apache.tools.ant.taskdefs.optional.junit.JUnitTestRunner.launch(JUnitTestRunner.java:911)\\n        at org.apache.tools.ant.taskdefs.optional.junit.JUnitTestRunner.main(JUnitTestRunner.java:768)\\n{noformat} Here is patch that changes LeaseChecker.close() so that it does not require a lock on LeaseChecker to close a file output stream. +1 for the patch. Since the existing test caught this, this need not have a separate test right? Here is the patch for 0.21. I identified this bug when I ran the test in HDFS-728. With this patch, the test can run through.\\n\\nIn branch 0.20, TestDatanodeBlockScanner times out with or without my fix. I filed HDFS-734 to track this.  I've committed this!\",\n          \"haadmin prints out stale help messages Scenario : Setting up multiple nameservices with HA configuration for each nameservice (manual failover)\\nAfter starting the journal nodes and namenodes, both the nodes are in standby mode. \\n\\nall the following haadmin commands\\n\\n *haadmin*\\n   -transitionToActive\\n   -transitionToStandby \\n   -failover \\n   -getServiceState \\n   -checkHealth  \\n\\nfailed with exception\\n_Illegal argument: Unable to determine the nameservice id._ After analysis i found that the cause is \\n\\n{code:title=NNHAServiceTarget.java|borderStyle=solid}\\n public NNHAServiceTarget(Configuration conf,\\n      String nsId, String nnId) {\\n    Preconditions.checkNotNull(nnId);\\n    \\n    if (nsId == null) {\\n      nsId = DFSUtil.getOnlyNameServiceIdOrNull(conf);\\n      if (nsId == null) {\\n        throw new IllegalArgumentException(\\n            \\\"Unable to determine the nameservice id.\\\");\\n      }\\n    }\\n......\\n{code}\\n\\n\\nHere, by using {code:} getOnlyNameServiceIdOrNull(conf) {\"\n        ],\n        \"semantic_type\": \"\",\n        \"description\": \"\"\n      }\n    }\n  ]\n}"
            }
          },
          "metadata": {},
          "execution_count": 24
        }
      ]
    },
    {
      "cell_type": "code",
      "source": [
        "tokenizer = DistilBertTokenizerFast.from_pretrained(model_name) # The model_name needs to match our pre-trained model."
      ],
      "metadata": {
        "id": "G0_aSUcJakjx"
      },
      "execution_count": 25,
      "outputs": []
    },
    {
      "cell_type": "code",
      "source": [
        "class MyDataset(torch.utils.data.Dataset):\n",
        "    def __init__(self, encodings, labels):\n",
        "        self.encodings = encodings\n",
        "        self.labels = labels\n",
        "\n",
        "    def __getitem__(self, idx):\n",
        "        item = {key: torch.tensor(val[idx]) for key, val in self.encodings.items()}\n",
        "        item['labels'] = torch.tensor(self.labels[idx])\n",
        "        return item\n",
        "\n",
        "    def __len__(self):\n",
        "        return len(self.labels)\n",
        "\n",
        "def cap_number(x):\n",
        "    if x > 1:\n",
        "      return 1\n",
        "    elif x < 0:\n",
        "      return 0\n",
        "    else:\n",
        "      return x\n",
        "\n",
        "def compute_metrics(pred):\n",
        "    labels = pred.label_ids\n",
        "    # preds = pred.predictions.argmax(-1)\n",
        "    outputs = pred.predictions.flatten().tolist()\n",
        "    probas = [cap_number(x) for x in outputs]\n",
        "    preds = np.array(np.array(probas) > 0.5, dtype=int)\n",
        "    acc = accuracy_score(labels, preds)\n",
        "    return {\n",
        "      'accuracy': acc,\n",
        "    }"
      ],
      "metadata": {
        "id": "crXXlencaoqP"
      },
      "execution_count": 26,
      "outputs": []
    },
    {
      "cell_type": "code",
      "source": [
        "!echo 'Cria a pasta results'\n",
        "!rm -rf results\n",
        "!mkdir results\n",
        "!echo 'Cria a pasta logs'\n",
        "!rm -rf logs\n",
        "!mkdir logs"
      ],
      "metadata": {
        "colab": {
          "base_uri": "https://localhost:8080/"
        },
        "id": "_5vF6PfhbcvB",
        "outputId": "fcf7a495-f753-4f51-b1e2-4ce3547171d2"
      },
      "execution_count": 27,
      "outputs": [
        {
          "output_type": "stream",
          "name": "stdout",
          "text": [
            "Cria a pasta results\n",
            "Cria a pasta logs\n"
          ]
        }
      ]
    },
    {
      "cell_type": "code",
      "source": [
        "training_args = TrainingArguments(\n",
        "    num_train_epochs=3,              # total number of training epochs\n",
        "    per_device_train_batch_size=16,  # batch size per device during training\n",
        "    per_device_eval_batch_size=20,   # batch size for evaluation\n",
        "    learning_rate=5e-5,              # initial learning rate for Adam optimizer\n",
        "    warmup_steps=100,                # number of warmup steps for learning rate scheduler (set lower because of small dataset size)\n",
        "    weight_decay=0.01,               # strength of weight decay\n",
        "    output_dir='/content/results',          # output directory\n",
        "    logging_dir='/content/logs',            # directory for storing logs\n",
        "    logging_steps=150,               # number of steps to output logging (set lower because of small dataset size)\n",
        "    evaluation_strategy='steps',     # evaluate during fine-tuning so that we can see progress\n",
        ")"
      ],
      "metadata": {
        "colab": {
          "base_uri": "https://localhost:8080/"
        },
        "id": "6ID4MuUubmYU",
        "outputId": "198ee7a3-1768-4275-c2b2-cc0561eb6e25"
      },
      "execution_count": 28,
      "outputs": [
        {
          "output_type": "stream",
          "name": "stderr",
          "text": [
            "/usr/local/lib/python3.10/dist-packages/transformers/training_args.py:1494: FutureWarning: `evaluation_strategy` is deprecated and will be removed in version 4.46 of 🤗 Transformers. Use `eval_strategy` instead\n",
            "  warnings.warn(\n"
          ]
        }
      ]
    },
    {
      "cell_type": "code",
      "source": [
        "unique_labels = {'EH-Bug', 'Non-EH-Bug'}\n",
        "label2id = {'Non-EH-Bug': 0, 'EH-Bug': 1}\n",
        "id2label = {0: 'Non-EH-Bug', 1: 'EH-Bug'}\n"
      ],
      "metadata": {
        "id": "WeoBvxL7bpXV"
      },
      "execution_count": 29,
      "outputs": []
    },
    {
      "cell_type": "code",
      "source": [
        "skf = StratifiedKFold(n_splits=5, shuffle=True, random_state=51)\n",
        "X, y = dataset['SummaryDescriptionComments'], dataset['Textual_Type']\n",
        "skf.get_n_splits(X, y)\n",
        "folds = {}"
      ],
      "metadata": {
        "id": "PvAoWYJXbrRO"
      },
      "execution_count": 30,
      "outputs": []
    },
    {
      "cell_type": "code",
      "source": [
        "X"
      ],
      "metadata": {
        "colab": {
          "base_uri": "https://localhost:8080/"
        },
        "id": "eH8l-_ydbsz5",
        "outputId": "b714964d-4c1a-43d8-af5f-fcf59dda78b3"
      },
      "execution_count": 31,
      "outputs": [
        {
          "output_type": "execute_result",
          "data": {
            "text/plain": [
              "0        Datanode daemon cannot be started on OS X Data...\n",
              "1        [UI2] New YARN UI webapp does not respect curr...\n",
              "5        Error log level in ShortCircuitRegistry#remove...\n",
              "6        License error in TestLoadBalancingKMSClientPro...\n",
              "8        Supress logging of full stack trace of quota a...\n",
              "                               ...                        \n",
              "10369    dead node count / listing is very broken in JM...\n",
              "10370    IPC client  bug may cause rpc call hang I can ...\n",
              "10371    JavaDocs for SignerSecretProvider are out-of-d...\n",
              "10372    AMs can't be scheduled on racks or nodes Yarn ...\n",
              "10373    CombineFileInputFormat node input split can be...\n",
              "Name: SummaryDescriptionComments, Length: 7100, dtype: object"
            ]
          },
          "metadata": {},
          "execution_count": 31
        }
      ]
    },
    {
      "cell_type": "code",
      "source": [
        "y"
      ],
      "metadata": {
        "colab": {
          "base_uri": "https://localhost:8080/"
        },
        "id": "rBzi6DFgbtkY",
        "outputId": "4e3c4071-faf1-4051-e94b-8773d86ac55b"
      },
      "execution_count": 32,
      "outputs": [
        {
          "output_type": "execute_result",
          "data": {
            "text/plain": [
              "0        Non-EH-Bug\n",
              "1        Non-EH-Bug\n",
              "5        Non-EH-Bug\n",
              "6        Non-EH-Bug\n",
              "8            EH-Bug\n",
              "            ...    \n",
              "10369    Non-EH-Bug\n",
              "10370        EH-Bug\n",
              "10371    Non-EH-Bug\n",
              "10372    Non-EH-Bug\n",
              "10373    Non-EH-Bug\n",
              "Name: Textual_Type, Length: 7100, dtype: object"
            ]
          },
          "metadata": {},
          "execution_count": 32
        }
      ]
    },
    {
      "cell_type": "code",
      "source": [
        "skf.split(X, y)"
      ],
      "metadata": {
        "colab": {
          "base_uri": "https://localhost:8080/"
        },
        "id": "2zYQaJJDbuM-",
        "outputId": "06f7bc38-2345-45fe-a829-342b1db6f66e"
      },
      "execution_count": 33,
      "outputs": [
        {
          "output_type": "execute_result",
          "data": {
            "text/plain": [
              "<generator object _BaseKFold.split at 0x7e3ebb8cdd20>"
            ]
          },
          "metadata": {},
          "execution_count": 33
        }
      ]
    },
    {
      "cell_type": "code",
      "source": [
        "print(f\"Running in {device_name}\")"
      ],
      "metadata": {
        "colab": {
          "base_uri": "https://localhost:8080/"
        },
        "id": "UuohnSyGb8ZY",
        "outputId": "c34e4924-3068-4d6e-a296-a498c70af782"
      },
      "execution_count": 34,
      "outputs": [
        {
          "output_type": "stream",
          "name": "stdout",
          "text": [
            "Running in cuda\n"
          ]
        }
      ]
    },
    {
      "cell_type": "code",
      "source": [
        "for i, (train_index, test_index) in enumerate(skf.split(X, y)):\n",
        "    print(f\"Fold {i+1}: Train Size {len(train_index)} | Test Size {len(test_index)}\")\n",
        "    X_train, X_test = X.iloc[train_index], X.iloc[test_index]\n",
        "    y_train, y_test = y.iloc[train_index], y.iloc[test_index]\n",
        "\n",
        "    train_labels_encoded = [float(label2id[yi]) for yi in y_train]\n",
        "    test_labels_encoded  = [float(label2id[yi]) for yi in y_test]\n",
        "\n",
        "    X_train = [str(i) for i in X_train]\n",
        "    X_test = [str(i) for i in X_test]\n",
        "\n",
        "    unique_labels = set(label for label in y_train)\n",
        "    label2id = {label: id for id, label in enumerate(unique_labels)}\n",
        "    id2label = {id: label for label, id in label2id.items()}\n",
        "\n",
        "    train_encodings = tokenizer(X_train, truncation=True, padding=True, max_length=max_length)\n",
        "    test_encodings  = tokenizer(X_test, truncation=True, padding=True, max_length=max_length)\n",
        "\n",
        "    train_labels_encoded = [float(label2id[yi]) for yi in y_train]\n",
        "    test_labels_encoded  = [float(label2id[yi]) for yi in y_test]\n",
        "\n",
        "    train_dataset = MyDataset(train_encodings, train_labels_encoded)\n",
        "    test_dataset = MyDataset(test_encodings, test_labels_encoded)\n",
        "\n",
        "    model = DistilBertForSequenceClassification.from_pretrained(model_name, num_labels=1).to(device_name)\n",
        "    trainer = Trainer(\n",
        "      model=model,\n",
        "      args=training_args,\n",
        "      train_dataset=train_dataset,\n",
        "      eval_dataset=test_dataset,\n",
        "      compute_metrics=compute_metrics\n",
        "    )\n",
        "    trainer.train()\n",
        "    trainer.evaluate()\n",
        "    predicted_results = trainer.predict(test_dataset)\n",
        "    outputs = predicted_results.predictions.flatten().tolist()\n",
        "    probas = [cap_number(x) for x in outputs]\n",
        "    preds = np.array(np.array(probas) > 0.5, dtype=int)\n",
        "\n",
        "    # roc_auc_score(test_labels_encoded, probas)\n",
        "    folds[i] = {}\n",
        "    folds[i]['pre'] = precision_score(test_labels_encoded, preds)\n",
        "    folds[i]['rec'] = recall_score(test_labels_encoded, preds)\n",
        "    folds[i]['acc'] = accuracy_score(test_labels_encoded, preds)\n",
        "    folds[i]['auc'] = roc_auc_score(test_labels_encoded, probas)\n",
        "    folds[i]['f1'] = f1_score(test_labels_encoded, preds)\n",
        "\n",
        "    print(f\"Fold {i+1}=> PRE: {folds[i]['pre']}; REC: {folds[i]['rec']}; ACC: {folds[i]['acc']}; F1S: {folds[i]['f1']}; AUC: {folds[i]['auc']}\")\n",
        "\n"
      ],
      "metadata": {
        "colab": {
          "base_uri": "https://localhost:8080/",
          "height": 1000,
          "referenced_widgets": [
            "bceb9bd1da4f46aabf3c265edbcc5096",
            "f009a50e04504097a3fd758f84e55922",
            "8208e7b4e39f4879bd4f9c4322c1c7ee",
            "7498f471281f40d39d6804dbb384623d",
            "432cdcde7cb54d51a8eb7affc1441728",
            "5d80c65ee2b0453da455e7d901701e76",
            "ab0d575d6e414b6ebcbdb1f60fa830d8",
            "3ff8c6b60ae74251898f40d1c0ab019a",
            "cad4be6c65464d59918ddea0cda68132",
            "7e49a0179e5f48cc83c1454695d4ebc2",
            "cbe82d1ee0c847eb98a4c9883cbd3d00"
          ]
        },
        "id": "mEiPkBLubwt9",
        "outputId": "bec228a7-b4b2-45c9-ddde-8c86bb5fa8ed"
      },
      "execution_count": 35,
      "outputs": [
        {
          "output_type": "stream",
          "name": "stdout",
          "text": [
            "Fold 1: Train Size 5680 | Test Size 1420\n"
          ]
        },
        {
          "output_type": "display_data",
          "data": {
            "text/plain": [
              "model.safetensors:   0%|          | 0.00/268M [00:00<?, ?B/s]"
            ],
            "application/vnd.jupyter.widget-view+json": {
              "version_major": 2,
              "version_minor": 0,
              "model_id": "bceb9bd1da4f46aabf3c265edbcc5096"
            }
          },
          "metadata": {}
        },
        {
          "output_type": "stream",
          "name": "stderr",
          "text": [
            "Some weights of DistilBertForSequenceClassification were not initialized from the model checkpoint at distilbert-base-uncased and are newly initialized: ['classifier.bias', 'classifier.weight', 'pre_classifier.bias', 'pre_classifier.weight']\n",
            "You should probably TRAIN this model on a down-stream task to be able to use it for predictions and inference.\n"
          ]
        },
        {
          "output_type": "display_data",
          "data": {
            "text/plain": [
              "<IPython.core.display.HTML object>"
            ],
            "text/html": [
              "\n",
              "    <div>\n",
              "      \n",
              "      <progress value='1065' max='1065' style='width:300px; height:20px; vertical-align: middle;'></progress>\n",
              "      [1065/1065 15:47, Epoch 3/3]\n",
              "    </div>\n",
              "    <table border=\"1\" class=\"dataframe\">\n",
              "  <thead>\n",
              " <tr style=\"text-align: left;\">\n",
              "      <th>Step</th>\n",
              "      <th>Training Loss</th>\n",
              "      <th>Validation Loss</th>\n",
              "      <th>Accuracy</th>\n",
              "    </tr>\n",
              "  </thead>\n",
              "  <tbody>\n",
              "    <tr>\n",
              "      <td>150</td>\n",
              "      <td>0.199100</td>\n",
              "      <td>0.089756</td>\n",
              "      <td>0.882394</td>\n",
              "    </tr>\n",
              "    <tr>\n",
              "      <td>300</td>\n",
              "      <td>0.100700</td>\n",
              "      <td>0.123209</td>\n",
              "      <td>0.869718</td>\n",
              "    </tr>\n",
              "    <tr>\n",
              "      <td>450</td>\n",
              "      <td>0.088000</td>\n",
              "      <td>0.077085</td>\n",
              "      <td>0.896479</td>\n",
              "    </tr>\n",
              "    <tr>\n",
              "      <td>600</td>\n",
              "      <td>0.078100</td>\n",
              "      <td>0.077696</td>\n",
              "      <td>0.893662</td>\n",
              "    </tr>\n",
              "    <tr>\n",
              "      <td>750</td>\n",
              "      <td>0.067400</td>\n",
              "      <td>0.078585</td>\n",
              "      <td>0.900704</td>\n",
              "    </tr>\n",
              "    <tr>\n",
              "      <td>900</td>\n",
              "      <td>0.046400</td>\n",
              "      <td>0.080096</td>\n",
              "      <td>0.897887</td>\n",
              "    </tr>\n",
              "    <tr>\n",
              "      <td>1050</td>\n",
              "      <td>0.052200</td>\n",
              "      <td>0.072561</td>\n",
              "      <td>0.908451</td>\n",
              "    </tr>\n",
              "  </tbody>\n",
              "</table><p>"
            ]
          },
          "metadata": {}
        },
        {
          "output_type": "display_data",
          "data": {
            "text/plain": [
              "<IPython.core.display.HTML object>"
            ],
            "text/html": []
          },
          "metadata": {}
        },
        {
          "output_type": "stream",
          "name": "stdout",
          "text": [
            "Fold 1=> PRE: 0.9365079365079365; REC: 0.9577922077922078; ACC: 0.9070422535211268; F1S: 0.9470304975922954; AUC: 0.8937594984802432\n",
            "Fold 2: Train Size 5680 | Test Size 1420\n"
          ]
        },
        {
          "output_type": "stream",
          "name": "stderr",
          "text": [
            "Some weights of DistilBertForSequenceClassification were not initialized from the model checkpoint at distilbert-base-uncased and are newly initialized: ['classifier.bias', 'classifier.weight', 'pre_classifier.bias', 'pre_classifier.weight']\n",
            "You should probably TRAIN this model on a down-stream task to be able to use it for predictions and inference.\n"
          ]
        },
        {
          "output_type": "display_data",
          "data": {
            "text/plain": [
              "<IPython.core.display.HTML object>"
            ],
            "text/html": [
              "\n",
              "    <div>\n",
              "      \n",
              "      <progress value='1065' max='1065' style='width:300px; height:20px; vertical-align: middle;'></progress>\n",
              "      [1065/1065 15:51, Epoch 3/3]\n",
              "    </div>\n",
              "    <table border=\"1\" class=\"dataframe\">\n",
              "  <thead>\n",
              " <tr style=\"text-align: left;\">\n",
              "      <th>Step</th>\n",
              "      <th>Training Loss</th>\n",
              "      <th>Validation Loss</th>\n",
              "      <th>Accuracy</th>\n",
              "    </tr>\n",
              "  </thead>\n",
              "  <tbody>\n",
              "    <tr>\n",
              "      <td>150</td>\n",
              "      <td>0.164900</td>\n",
              "      <td>0.123081</td>\n",
              "      <td>0.857746</td>\n",
              "    </tr>\n",
              "    <tr>\n",
              "      <td>300</td>\n",
              "      <td>0.092400</td>\n",
              "      <td>0.086120</td>\n",
              "      <td>0.903521</td>\n",
              "    </tr>\n",
              "    <tr>\n",
              "      <td>450</td>\n",
              "      <td>0.077900</td>\n",
              "      <td>0.090973</td>\n",
              "      <td>0.892958</td>\n",
              "    </tr>\n",
              "    <tr>\n",
              "      <td>600</td>\n",
              "      <td>0.072700</td>\n",
              "      <td>0.075074</td>\n",
              "      <td>0.902113</td>\n",
              "    </tr>\n",
              "    <tr>\n",
              "      <td>750</td>\n",
              "      <td>0.058700</td>\n",
              "      <td>0.066132</td>\n",
              "      <td>0.914789</td>\n",
              "    </tr>\n",
              "    <tr>\n",
              "      <td>900</td>\n",
              "      <td>0.046100</td>\n",
              "      <td>0.078302</td>\n",
              "      <td>0.902113</td>\n",
              "    </tr>\n",
              "    <tr>\n",
              "      <td>1050</td>\n",
              "      <td>0.039400</td>\n",
              "      <td>0.075198</td>\n",
              "      <td>0.907746</td>\n",
              "    </tr>\n",
              "  </tbody>\n",
              "</table><p>"
            ]
          },
          "metadata": {}
        },
        {
          "output_type": "display_data",
          "data": {
            "text/plain": [
              "<IPython.core.display.HTML object>"
            ],
            "text/html": []
          },
          "metadata": {}
        },
        {
          "output_type": "stream",
          "name": "stdout",
          "text": [
            "Fold 2=> PRE: 0.9457050243111832; REC: 0.9472402597402597; ACC: 0.9070422535211268; F1S: 0.9464720194647203; AUC: 0.9029125794418349\n",
            "Fold 3: Train Size 5680 | Test Size 1420\n"
          ]
        },
        {
          "output_type": "stream",
          "name": "stderr",
          "text": [
            "Some weights of DistilBertForSequenceClassification were not initialized from the model checkpoint at distilbert-base-uncased and are newly initialized: ['classifier.bias', 'classifier.weight', 'pre_classifier.bias', 'pre_classifier.weight']\n",
            "You should probably TRAIN this model on a down-stream task to be able to use it for predictions and inference.\n"
          ]
        },
        {
          "output_type": "display_data",
          "data": {
            "text/plain": [
              "<IPython.core.display.HTML object>"
            ],
            "text/html": [
              "\n",
              "    <div>\n",
              "      \n",
              "      <progress value='1065' max='1065' style='width:300px; height:20px; vertical-align: middle;'></progress>\n",
              "      [1065/1065 16:02, Epoch 3/3]\n",
              "    </div>\n",
              "    <table border=\"1\" class=\"dataframe\">\n",
              "  <thead>\n",
              " <tr style=\"text-align: left;\">\n",
              "      <th>Step</th>\n",
              "      <th>Training Loss</th>\n",
              "      <th>Validation Loss</th>\n",
              "      <th>Accuracy</th>\n",
              "    </tr>\n",
              "  </thead>\n",
              "  <tbody>\n",
              "    <tr>\n",
              "      <td>150</td>\n",
              "      <td>0.152600</td>\n",
              "      <td>0.101201</td>\n",
              "      <td>0.871127</td>\n",
              "    </tr>\n",
              "    <tr>\n",
              "      <td>300</td>\n",
              "      <td>0.099500</td>\n",
              "      <td>0.086433</td>\n",
              "      <td>0.880282</td>\n",
              "    </tr>\n",
              "    <tr>\n",
              "      <td>450</td>\n",
              "      <td>0.076300</td>\n",
              "      <td>0.082684</td>\n",
              "      <td>0.888732</td>\n",
              "    </tr>\n",
              "    <tr>\n",
              "      <td>600</td>\n",
              "      <td>0.069900</td>\n",
              "      <td>0.093133</td>\n",
              "      <td>0.878169</td>\n",
              "    </tr>\n",
              "    <tr>\n",
              "      <td>750</td>\n",
              "      <td>0.064300</td>\n",
              "      <td>0.086355</td>\n",
              "      <td>0.885915</td>\n",
              "    </tr>\n",
              "    <tr>\n",
              "      <td>900</td>\n",
              "      <td>0.048500</td>\n",
              "      <td>0.085007</td>\n",
              "      <td>0.893662</td>\n",
              "    </tr>\n",
              "    <tr>\n",
              "      <td>1050</td>\n",
              "      <td>0.044200</td>\n",
              "      <td>0.080723</td>\n",
              "      <td>0.903521</td>\n",
              "    </tr>\n",
              "  </tbody>\n",
              "</table><p>"
            ]
          },
          "metadata": {}
        },
        {
          "output_type": "display_data",
          "data": {
            "text/plain": [
              "<IPython.core.display.HTML object>"
            ],
            "text/html": []
          },
          "metadata": {}
        },
        {
          "output_type": "stream",
          "name": "stdout",
          "text": [
            "Fold 3=> PRE: 0.9208301306687163; REC: 0.9731925264012997; ACC: 0.9042253521126761; F1S: 0.9462875197472354; AUC: 0.8736562952647435\n",
            "Fold 4: Train Size 5680 | Test Size 1420\n"
          ]
        },
        {
          "output_type": "stream",
          "name": "stderr",
          "text": [
            "Some weights of DistilBertForSequenceClassification were not initialized from the model checkpoint at distilbert-base-uncased and are newly initialized: ['classifier.bias', 'classifier.weight', 'pre_classifier.bias', 'pre_classifier.weight']\n",
            "You should probably TRAIN this model on a down-stream task to be able to use it for predictions and inference.\n"
          ]
        },
        {
          "output_type": "display_data",
          "data": {
            "text/plain": [
              "<IPython.core.display.HTML object>"
            ],
            "text/html": [
              "\n",
              "    <div>\n",
              "      \n",
              "      <progress value='1065' max='1065' style='width:300px; height:20px; vertical-align: middle;'></progress>\n",
              "      [1065/1065 16:02, Epoch 3/3]\n",
              "    </div>\n",
              "    <table border=\"1\" class=\"dataframe\">\n",
              "  <thead>\n",
              " <tr style=\"text-align: left;\">\n",
              "      <th>Step</th>\n",
              "      <th>Training Loss</th>\n",
              "      <th>Validation Loss</th>\n",
              "      <th>Accuracy</th>\n",
              "    </tr>\n",
              "  </thead>\n",
              "  <tbody>\n",
              "    <tr>\n",
              "      <td>150</td>\n",
              "      <td>0.156600</td>\n",
              "      <td>0.094925</td>\n",
              "      <td>0.868310</td>\n",
              "    </tr>\n",
              "    <tr>\n",
              "      <td>300</td>\n",
              "      <td>0.101500</td>\n",
              "      <td>0.078878</td>\n",
              "      <td>0.895070</td>\n",
              "    </tr>\n",
              "    <tr>\n",
              "      <td>450</td>\n",
              "      <td>0.072600</td>\n",
              "      <td>0.079964</td>\n",
              "      <td>0.900000</td>\n",
              "    </tr>\n",
              "    <tr>\n",
              "      <td>600</td>\n",
              "      <td>0.072900</td>\n",
              "      <td>0.078314</td>\n",
              "      <td>0.898592</td>\n",
              "    </tr>\n",
              "    <tr>\n",
              "      <td>750</td>\n",
              "      <td>0.064000</td>\n",
              "      <td>0.078409</td>\n",
              "      <td>0.912676</td>\n",
              "    </tr>\n",
              "    <tr>\n",
              "      <td>900</td>\n",
              "      <td>0.042000</td>\n",
              "      <td>0.081221</td>\n",
              "      <td>0.904930</td>\n",
              "    </tr>\n",
              "    <tr>\n",
              "      <td>1050</td>\n",
              "      <td>0.044400</td>\n",
              "      <td>0.073526</td>\n",
              "      <td>0.907042</td>\n",
              "    </tr>\n",
              "  </tbody>\n",
              "</table><p>"
            ]
          },
          "metadata": {}
        },
        {
          "output_type": "display_data",
          "data": {
            "text/plain": [
              "<IPython.core.display.HTML object>"
            ],
            "text/html": []
          },
          "metadata": {}
        },
        {
          "output_type": "stream",
          "name": "stdout",
          "text": [
            "Fold 4=> PRE: 0.9311962470680218; REC: 0.9675060926076361; ACC: 0.9098591549295775; F1S: 0.9490039840637451; AUC: 0.8907779196162624\n",
            "Fold 5: Train Size 5680 | Test Size 1420\n"
          ]
        },
        {
          "output_type": "stream",
          "name": "stderr",
          "text": [
            "Some weights of DistilBertForSequenceClassification were not initialized from the model checkpoint at distilbert-base-uncased and are newly initialized: ['classifier.bias', 'classifier.weight', 'pre_classifier.bias', 'pre_classifier.weight']\n",
            "You should probably TRAIN this model on a down-stream task to be able to use it for predictions and inference.\n"
          ]
        },
        {
          "output_type": "display_data",
          "data": {
            "text/plain": [
              "<IPython.core.display.HTML object>"
            ],
            "text/html": [
              "\n",
              "    <div>\n",
              "      \n",
              "      <progress value='1065' max='1065' style='width:300px; height:20px; vertical-align: middle;'></progress>\n",
              "      [1065/1065 17:09, Epoch 3/3]\n",
              "    </div>\n",
              "    <table border=\"1\" class=\"dataframe\">\n",
              "  <thead>\n",
              " <tr style=\"text-align: left;\">\n",
              "      <th>Step</th>\n",
              "      <th>Training Loss</th>\n",
              "      <th>Validation Loss</th>\n",
              "      <th>Accuracy</th>\n",
              "    </tr>\n",
              "  </thead>\n",
              "  <tbody>\n",
              "    <tr>\n",
              "      <td>150</td>\n",
              "      <td>0.162700</td>\n",
              "      <td>0.087875</td>\n",
              "      <td>0.901408</td>\n",
              "    </tr>\n",
              "    <tr>\n",
              "      <td>300</td>\n",
              "      <td>0.094200</td>\n",
              "      <td>0.097997</td>\n",
              "      <td>0.890845</td>\n",
              "    </tr>\n",
              "    <tr>\n",
              "      <td>450</td>\n",
              "      <td>0.077500</td>\n",
              "      <td>0.077234</td>\n",
              "      <td>0.906338</td>\n",
              "    </tr>\n",
              "    <tr>\n",
              "      <td>600</td>\n",
              "      <td>0.080600</td>\n",
              "      <td>0.081097</td>\n",
              "      <td>0.903521</td>\n",
              "    </tr>\n",
              "    <tr>\n",
              "      <td>750</td>\n",
              "      <td>0.060100</td>\n",
              "      <td>0.071867</td>\n",
              "      <td>0.910563</td>\n",
              "    </tr>\n",
              "    <tr>\n",
              "      <td>900</td>\n",
              "      <td>0.047900</td>\n",
              "      <td>0.073958</td>\n",
              "      <td>0.907042</td>\n",
              "    </tr>\n",
              "    <tr>\n",
              "      <td>1050</td>\n",
              "      <td>0.040600</td>\n",
              "      <td>0.073218</td>\n",
              "      <td>0.908451</td>\n",
              "    </tr>\n",
              "  </tbody>\n",
              "</table><p>"
            ]
          },
          "metadata": {}
        },
        {
          "output_type": "display_data",
          "data": {
            "text/plain": [
              "<IPython.core.display.HTML object>"
            ],
            "text/html": []
          },
          "metadata": {}
        },
        {
          "output_type": "stream",
          "name": "stdout",
          "text": [
            "Fold 5=> PRE: 0.936608557844691; REC: 0.9601949634443542; ACC: 0.9091549295774648; F1S: 0.9482551143200963; AUC: 0.8904770501033701\n"
          ]
        }
      ]
    }
  ]
}